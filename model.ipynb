{
 "cells": [
  {
   "cell_type": "code",
   "execution_count": 99,
   "metadata": {},
   "outputs": [],
   "source": [
    "import pandas as pd\n",
    "import numpy as np\n",
    "import matplotlib.pyplot as plt\n",
    "import seaborn as sns\n",
    "import pickle\n",
    "import os\n",
    "import sys\n",
    "from sklearn.linear_model import LinearRegression\n",
    "from sklearn import linear_model\n",
    "from sklearn.metrics import mean_squared_error, r2_score, mean_absolute_error\n",
    "from sklearn.preprocessing import StandardScaler\n",
    "from sklearn.preprocessing import PolynomialFeatures\n",
    "from sklearn.model_selection import train_test_split, cross_val_score, RepeatedKFold, LeaveOneOut\n",
    "from sklearn.feature_selection import SequentialFeatureSelector\n",
    "\n",
    "from get_data import *"
   ]
  },
  {
   "cell_type": "markdown",
   "metadata": {},
   "source": [
    "### Data load"
   ]
  },
  {
   "cell_type": "code",
   "execution_count": 36,
   "metadata": {},
   "outputs": [
    {
     "name": "stdout",
     "output_type": "stream",
     "text": [
      "Database object created\n",
      "<class 'pandas.core.frame.DataFrame'>\n",
      "Int64Index: 684 entries, 0 to 683\n",
      "Data columns (total 29 columns):\n",
      " #   Column              Non-Null Count  Dtype  \n",
      "---  ------              --------------  -----  \n",
      " 0   id                  684 non-null    int64  \n",
      " 1   titulo              684 non-null    object \n",
      " 2   descripcion         672 non-null    object \n",
      " 3   extra_info          680 non-null    object \n",
      " 4   n_habitaciones      684 non-null    int64  \n",
      " 5   tamano              684 non-null    int64  \n",
      " 6   precio              684 non-null    float64\n",
      " 7   municipio           684 non-null    object \n",
      " 8   n_banos             677 non-null    float64\n",
      " 9   n_plazas_garaje     677 non-null    float64\n",
      " 10  direccion           677 non-null    object \n",
      " 11  landmarks_cercanos  677 non-null    object \n",
      " 12  piscina             684 non-null    bool   \n",
      " 13  valoracion          677 non-null    float64\n",
      " 14  direccion_x         501 non-null    float64\n",
      " 15  direccion_y         501 non-null    float64\n",
      " 16  densidad            684 non-null    int64  \n",
      " 17  pib_capita          684 non-null    float64\n",
      " 18  parking             684 non-null    bool   \n",
      " 19  estudiantes         684 non-null    bool   \n",
      " 20  playa               684 non-null    bool   \n",
      " 21  balcon              684 non-null    bool   \n",
      " 22  trastero            684 non-null    bool   \n",
      " 23  vacacional          684 non-null    bool   \n",
      " 24  vistas              684 non-null    bool   \n",
      " 25  sin_ascensor        684 non-null    bool   \n",
      " 26  profesores          684 non-null    bool   \n",
      " 27  amueblado           684 non-null    bool   \n",
      " 28  es_casa             684 non-null    float64\n",
      "dtypes: bool(11), float64(8), int64(4), object(6)\n",
      "memory usage: 108.9+ KB\n"
     ]
    },
    {
     "name": "stderr",
     "output_type": "stream",
     "text": [
      "c:\\Users\\ivan\\Desktop\\Coding\\corunaRealEstateMarket\\bd.py:46: UserWarning: pandas only supports SQLAlchemy connectable (engine/connection) or database string URI or sqlite3 DBAPI2 connection. Other DBAPI2 objects are not tested. Please consider using SQLAlchemy.\n",
      "  df = pd.read_sql_query(query, self.connection)\n"
     ]
    }
   ],
   "source": [
    "ds = get_data_model_v1()\n",
    "ds.info()"
   ]
  },
  {
   "cell_type": "code",
   "execution_count": 37,
   "metadata": {},
   "outputs": [
    {
     "name": "stdout",
     "output_type": "stream",
     "text": [
      "<class 'pandas.core.frame.DataFrame'>\n",
      "Int64Index: 684 entries, 0 to 683\n",
      "Data columns (total 6 columns):\n",
      " #   Column              Non-Null Count  Dtype \n",
      "---  ------              --------------  ----- \n",
      " 0   titulo              684 non-null    object\n",
      " 1   descripcion         672 non-null    object\n",
      " 2   extra_info          680 non-null    object\n",
      " 3   municipio           684 non-null    object\n",
      " 4   direccion           677 non-null    object\n",
      " 5   landmarks_cercanos  677 non-null    object\n",
      "dtypes: object(6)\n",
      "memory usage: 37.4+ KB\n"
     ]
    }
   ],
   "source": [
    "object_columns = ds.select_dtypes(include=['object']).columns.tolist()\n",
    "ds_object = ds[object_columns]\n",
    "ds_object.info()"
   ]
  },
  {
   "cell_type": "code",
   "execution_count": 38,
   "metadata": {},
   "outputs": [
    {
     "name": "stdout",
     "output_type": "stream",
     "text": [
      "Column n_banos has more than 20% of missing values.\n",
      "Column n_plazas_garaje has more than 20% of missing values.\n"
     ]
    }
   ],
   "source": [
    "cols = ds.columns\n",
    "cols_exclude = ['id', 'titulo', 'descripcion', 'extra_info', 'direccion', 'landmarks_cercanos', 'municipio', 'direccion_x', 'direccion_y']\n",
    "cols_check_nas = ['n_banos', 'n_plazas_garaje', 'valoracion']\n",
    "for col in cols_check_nas:\n",
    "    if sum(ds[col]==-1)/len(ds) > 0.25:\n",
    "        print(f'Column {col} has more than 20% of missing values.')\n",
    "        cols_exclude.append(col)\n",
    "\n",
    "cols_model = [col for col in cols if col not in cols_exclude]\n",
    "\n",
    "#convert int and bool columns to float\n",
    "for col in cols:\n",
    "    if ds[col].dtype == 'int64':\n",
    "        ds[col] = ds[col].astype('float64')\n",
    "    elif ds[col].dtype == 'object':\n",
    "        cols_exclude.append(col)\n",
    "    elif ds[col].dtype == 'bool':\n",
    "        ds[col] = ds[col].astype('float64')"
   ]
  },
  {
   "cell_type": "markdown",
   "metadata": {},
   "source": [
    "### Data exploration"
   ]
  },
  {
   "cell_type": "markdown",
   "metadata": {},
   "source": [
    "Correlaciones"
   ]
  },
  {
   "cell_type": "code",
   "execution_count": 93,
   "metadata": {},
   "outputs": [
    {
     "data": {
      "text/plain": [
       "tamano            0.658472\n",
       "es_casa           0.503725\n",
       "n_habitaciones    0.434187\n",
       "oleiros           0.254257\n",
       "sin_ascensor      0.230452\n",
       "amueblado         0.224169\n",
       "vistas            0.199311\n",
       "piscina           0.195646\n",
       "estudiantes       0.142985\n",
       "pib_capita        0.128771\n",
       "playa             0.127236\n",
       "coruna            0.113026\n",
       "densidad          0.100993\n",
       "art_berg_camb     0.063328\n",
       "profesores        0.041059\n",
       "balcon            0.029128\n",
       "trastero          0.029083\n",
       "parking           0.024817\n",
       "vacacional        0.019004\n",
       "valoracion        0.016406\n",
       "dtype: float64"
      ]
     },
     "execution_count": 93,
     "metadata": {},
     "output_type": "execute_result"
    }
   ],
   "source": [
    "abs(x.corrwith(y)).sort_values(ascending=False)"
   ]
  },
  {
   "cell_type": "markdown",
   "metadata": {},
   "source": [
    "### Data visualization"
   ]
  },
  {
   "cell_type": "markdown",
   "metadata": {},
   "source": [
    "sns.set(style=\"whitegrid\")  # Set the style of the plot\n",
    "\n",
    "# Create a scatter plot with a regression line\n",
    "sns.lmplot(x=\"x\", y=\"y\", data=df)\n",
    "\n",
    "# Show the plot\n",
    "plt.show()"
   ]
  },
  {
   "cell_type": "code",
   "execution_count": null,
   "metadata": {},
   "outputs": [],
   "source": []
  },
  {
   "cell_type": "markdown",
   "metadata": {},
   "source": [
    "### Deal with NAs"
   ]
  },
  {
   "cell_type": "code",
   "execution_count": 39,
   "metadata": {},
   "outputs": [],
   "source": [
    "for col in cols_check_nas:\n",
    "    ds[col] = ds[col].fillna(np.mean(ds[col]))"
   ]
  },
  {
   "cell_type": "markdown",
   "metadata": {},
   "source": [
    "### Municipios column"
   ]
  },
  {
   "cell_type": "code",
   "execution_count": 40,
   "metadata": {},
   "outputs": [],
   "source": [
    "ds['coruna'] = ds[\"municipio\"].apply(lambda x: 1.0 if 'coru' in x else 0.0)\n",
    "ds['oleiros'] = ds[\"municipio\"].apply(lambda x: 1.0 if 'oleiros' in x else 0.0)\n",
    "ds['art_berg_camb'] = ds[\"municipio\"].apply(lambda x: 1.0 if ('artei' in x or 'berg' in x or 'cambr' in x) else 0.0)\n",
    "\n",
    "cols_model.append('coruna')\n",
    "cols_model.append('oleiros')\n",
    "cols_model.append('art_berg_camb')"
   ]
  },
  {
   "cell_type": "markdown",
   "metadata": {},
   "source": [
    "### Data split"
   ]
  },
  {
   "cell_type": "code",
   "execution_count": 226,
   "metadata": {},
   "outputs": [],
   "source": [
    "x = ds[cols_model].drop('precio', axis=1)\n",
    "y = ds['precio']\n",
    "\n",
    "# slit data into train and val\n",
    "x_train, x_test, y_train, y_test = train_test_split(x, y, test_size=0.2)"
   ]
  },
  {
   "cell_type": "code",
   "execution_count": 227,
   "metadata": {},
   "outputs": [
    {
     "name": "stdout",
     "output_type": "stream",
     "text": [
      "<class 'pandas.core.frame.DataFrame'>\n",
      "Int64Index: 684 entries, 0 to 683\n",
      "Data columns (total 20 columns):\n",
      " #   Column          Non-Null Count  Dtype  \n",
      "---  ------          --------------  -----  \n",
      " 0   n_habitaciones  684 non-null    float64\n",
      " 1   tamano          684 non-null    float64\n",
      " 2   piscina         684 non-null    float64\n",
      " 3   valoracion      684 non-null    float64\n",
      " 4   densidad        684 non-null    float64\n",
      " 5   pib_capita      684 non-null    float64\n",
      " 6   parking         684 non-null    float64\n",
      " 7   estudiantes     684 non-null    float64\n",
      " 8   playa           684 non-null    float64\n",
      " 9   balcon          684 non-null    float64\n",
      " 10  trastero        684 non-null    float64\n",
      " 11  vacacional      684 non-null    float64\n",
      " 12  vistas          684 non-null    float64\n",
      " 13  sin_ascensor    684 non-null    float64\n",
      " 14  profesores      684 non-null    float64\n",
      " 15  amueblado       684 non-null    float64\n",
      " 16  es_casa         684 non-null    float64\n",
      " 17  coruna          684 non-null    float64\n",
      " 18  oleiros         684 non-null    float64\n",
      " 19  art_berg_camb   684 non-null    float64\n",
      "dtypes: float64(20)\n",
      "memory usage: 112.2 KB\n"
     ]
    }
   ],
   "source": [
    "x.info()"
   ]
  },
  {
   "cell_type": "markdown",
   "metadata": {},
   "source": [
    "### Model: Linear reg"
   ]
  },
  {
   "cell_type": "code",
   "execution_count": 228,
   "metadata": {},
   "outputs": [],
   "source": [
    "def train_model(x,y, model, n_splits=5, n_repeats=5):\n",
    "    return_val = []\n",
    "    rkf = RepeatedKFold(n_splits=n_splits, n_repeats=n_repeats)\n",
    "    rkf.get_n_splits(x, y)\n",
    "    for i, (train_index, val_index) in enumerate(rkf.split(x)):\n",
    "        x_train = x.iloc[train_index]\n",
    "        y_train = y.iloc[train_index]\n",
    "        x_val = x.iloc[val_index]\n",
    "        y_val = y.iloc[val_index]\n",
    "        model.fit(x_train, y_train)\n",
    "        y_train_pred = model.predict(x_train)\n",
    "        y_val_pred = model.predict(x_val)\n",
    "        rmse_train = np.sqrt(mean_squared_error(y_train, y_train_pred))\n",
    "        rmse_val = np.sqrt(mean_squared_error(y_val, y_val_pred))\n",
    "        mae_train = mean_absolute_error(y_train, y_train_pred)\n",
    "        mae_val = mean_absolute_error(y_val, y_val_pred) \n",
    "        return_val.append({'rmse_train': rmse_train, 'rmse_val': rmse_val, 'mae_train': mae_train, 'mae_val': mae_val})\n",
    "    return return_val"
   ]
  },
  {
   "cell_type": "markdown",
   "metadata": {},
   "source": [
    "#### Linear reg"
   ]
  },
  {
   "cell_type": "markdown",
   "metadata": {},
   "source": [
    "Repeated CV"
   ]
  },
  {
   "cell_type": "code",
   "execution_count": 229,
   "metadata": {},
   "outputs": [
    {
     "name": "stdout",
     "output_type": "stream",
     "text": [
      "RMSE train:\t mean 368.20\t std 15.05\n",
      "RMSE val:\t mean 393.01\t std 56.39\n",
      "\n",
      "MAE train:\t mean 219.17\t std 9.21\n",
      "MAE val:\t mean 233.38\t std 22.24\n"
     ]
    }
   ],
   "source": [
    "trainings = train_model(x,y, LinearRegression(), n_splits=5, n_repeats=5)\n",
    "rmse_train = [x['rmse_train'] for x in trainings]\n",
    "rmse_val = [x['rmse_val'] for x in trainings]\n",
    "mae_train = [x['mae_train'] for x in trainings]\n",
    "mae_val = [x['mae_val'] for x in trainings]\n",
    "\n",
    "print(f'RMSE train:\\t mean {np.mean(rmse_train):.2f}\\t std {np.std(rmse_train):.2f}')\n",
    "print(f'RMSE val:\\t mean {np.mean(rmse_val):.2f}\\t std {np.std(rmse_val):.2f}')\n",
    "print(\"\")\n",
    "print(f'MAE train:\\t mean {np.mean(mae_train):.2f}\\t std {np.std(mae_train):.2f}')\n",
    "print(f'MAE val:\\t mean {np.mean(mae_val):.2f}\\t std {np.std(mae_val):.2f}')"
   ]
  },
  {
   "cell_type": "markdown",
   "metadata": {},
   "source": [
    "LeaveOneOut"
   ]
  },
  {
   "cell_type": "code",
   "execution_count": 230,
   "metadata": {},
   "outputs": [
    {
     "name": "stdout",
     "output_type": "stream",
     "text": [
      "RMSE train:\t mean 371.24\t std 1.23\n",
      "RMSE val:\t mean 389.58\t std 314.62\n",
      "\n",
      "MAE train:\t mean 220.01\t std 0.64\n",
      "MAE val:\t mean 229.75\t std 314.62\n"
     ]
    }
   ],
   "source": [
    "trainings = train_model(x,y, LinearRegression(), n_splits=len(x), n_repeats=1)\n",
    "rmse_train = [x['rmse_train'] for x in trainings]\n",
    "mae_train = [x['mae_train'] for x in trainings]\n",
    "errors_val = [x['mae_val'] for x in trainings]\n",
    "rmse_val = np.sqrt(np.power(errors_val, 2).mean())\n",
    "mae_val = np.mean(errors_val)\n",
    "\n",
    "print(f'RMSE train:\\t mean {np.mean(rmse_train):.2f}\\t std {np.std(rmse_train):.2f}')\n",
    "print(f'RMSE val:\\t mean {np.mean(rmse_val):.2f}\\t std {np.std(errors_val):.2f}')\n",
    "print(\"\")\n",
    "print(f'MAE train:\\t mean {np.mean(mae_train):.2f}\\t std {np.std(mae_train):.2f}')\n",
    "print(f'MAE val:\\t mean {np.mean(mae_val):.2f}\\t std {np.std(errors_val):.2f}')"
   ]
  },
  {
   "cell_type": "markdown",
   "metadata": {},
   "source": [
    "#### Variable selection"
   ]
  },
  {
   "cell_type": "code",
   "execution_count": 224,
   "metadata": {},
   "outputs": [
    {
     "name": "stdout",
     "output_type": "stream",
     "text": [
      "Best column: tamano\t score training:297.02\t score_val:385.06\n",
      "Best column: vistas\t score training:291.11\t score_val:287.92\n",
      "Best column: sin_ascensor\t score training:286.76\t score_val:285.57\n",
      "Best column: n_habitaciones\t score training:283.49\t score_val:284.90\n",
      "Best column: playa\t score training:280.31\t score_val:283.61\n",
      "Best column: es_casa\t score training:278.71\t score_val:280.48\n",
      "Best column: vacacional\t score training:277.60\t score_val:283.38\n",
      "Best column: parking\t score training:276.41\t score_val:277.76\n",
      "Best column: amueblado\t score training:275.63\t score_val:280.87\n",
      "Best column: estudiantes\t score training:275.28\t score_val:281.40\n",
      "Best column: balcon\t score training:274.68\t score_val:279.73\n",
      "Best column: valoracion\t score training:274.47\t score_val:282.84\n",
      "Best column: piscina\t score training:274.52\t score_val:281.26\n",
      "Best column: art_berg_camb\t score training:274.26\t score_val:283.41\n",
      "Best column: profesores\t score training:274.24\t score_val:284.97\n",
      "Best column: pib_capita\t score training:274.15\t score_val:283.80\n",
      "Best column: densidad\t score training:274.08\t score_val:281.58\n",
      "Best column: trastero\t score training:273.86\t score_val:281.53\n",
      "Best column: oleiros\t score training:274.32\t score_val:283.42\n"
     ]
    }
   ],
   "source": [
    "def get_step_score(current_cols, new_col, x, y, model):\n",
    "    cols = current_cols + [new_col]\n",
    "    trainings = train_model(x[cols],y, model)\n",
    "    rmse_train = [x['rmse_train'] for x in trainings]\n",
    "    rmse_train = np.mean(rmse_train)\n",
    "    rmse_val = [x['rmse_val'] for x in trainings]\n",
    "    rmse_val = np.mean(rmse_val)\n",
    "    return rmse_train, rmse_val\n",
    "\n",
    "current_cols = []\n",
    "scores_train = []\n",
    "scores_val = []\n",
    "cols = []\n",
    "all_columns = cols_model[:]\n",
    "all_columns.remove('precio')\n",
    "\n",
    "for k in range(len(all_columns)-1):\n",
    "    best_col = None\n",
    "    best_score_training = 1e20\n",
    "    best_score_val = 1e20\n",
    "    best_model = None\n",
    "    for col in set(all_columns)-set(current_cols):\n",
    "        score_training, score_val = get_step_score(current_cols, col, x, y, LinearRegression())\n",
    "        if score_training < best_score_training:\n",
    "            best_score_training = score_training\n",
    "            best_score_val = score_val\n",
    "            best_col = col\n",
    "    current_cols.append(best_col)\n",
    "    scores_train.append(best_score_training)\n",
    "    scores_val.append(best_score_val)\n",
    "    cols.append(current_cols[:])\n",
    "    print(f'Best column: {best_col}\\t score training:{best_score_training:.2f}\\t score_val:{score_val:.2f}')"
   ]
  },
  {
   "cell_type": "code",
   "execution_count": 225,
   "metadata": {},
   "outputs": [
    {
     "data": {
      "image/png": "[encoded data removed]",
      "text/plain": [
       "<Figure size 640x480 with 1 Axes>"
      ]
     },
     "metadata": {},
     "output_type": "display_data"
    }
   ],
   "source": [
    "idx = list(range(len(current_cols)))\n",
    "plt.plot(idx, scores_train, marker='o', linestyle='-', color='blue', label='Train')\n",
    "plt.plot(idx, scores_val, marker='o', linestyle='-', color='orange', label='Validation')\n",
    "\n",
    "plt.xlabel('No. cols')\n",
    "plt.ylabel('RMSE scores')\n",
    "plt.title('Train vs Validation Scores in forward variable selection')\n",
    "plt.xticks(idx, current_cols)  # Use column names as x-axis labels\n",
    "#in vertical\n",
    "plt.xticks(rotation=90)\n",
    "plt.legend()\n",
    "plt.grid(True)\n",
    "plt.show()"
   ]
  },
  {
   "cell_type": "markdown",
   "metadata": {},
   "source": [
    "#### Usando solo n_habitaciones y tamaño"
   ]
  },
  {
   "cell_type": "code",
   "execution_count": 217,
   "metadata": {},
   "outputs": [
    {
     "name": "stdout",
     "output_type": "stream",
     "text": [
      "RMSE train:\t mean 274.10\t std 16.01\n",
      "RMSE val:\t mean 283.43\t std 57.79\n",
      "\n",
      "MAE train:\t mean 174.55\t std 6.33\n",
      "MAE val:\t mean 183.31\t std 18.55\n"
     ]
    }
   ],
   "source": [
    "ds_aux = ds[ds['municipio'].str.contains('oru')]\n",
    "# ds_aux = ds\n",
    "x = ds_aux[cols_model]\n",
    "x = x.drop('precio', axis=1)\n",
    "y = ds_aux['precio']\n",
    "\n",
    "trainings = train_model(x,y, LinearRegression(), n_splits=5, n_repeats=50)\n",
    "rmse_train = [x['rmse_train'] for x in trainings]\n",
    "rmse_val = [x['rmse_val'] for x in trainings]\n",
    "mae_train = [x['mae_train'] for x in trainings]\n",
    "mae_val = [x['mae_val'] for x in trainings]\n",
    "\n",
    "print(f'RMSE train:\\t mean {np.mean(rmse_train):.2f}\\t std {np.std(rmse_train):.2f}')\n",
    "print(f'RMSE val:\\t mean {np.mean(rmse_val):.2f}\\t std {np.std(rmse_val):.2f}')\n",
    "print(\"\")\n",
    "print(f'MAE train:\\t mean {np.mean(mae_train):.2f}\\t std {np.std(mae_train):.2f}')\n",
    "print(f'MAE val:\\t mean {np.mean(mae_val):.2f}\\t std {np.std(mae_val):.2f}')"
   ]
  },
  {
   "cell_type": "markdown",
   "metadata": {},
   "source": [
    "### Model: Lasso reg"
   ]
  },
  {
   "cell_type": "code",
   "execution_count": 144,
   "metadata": {},
   "outputs": [
    {
     "name": "stderr",
     "output_type": "stream",
     "text": [
      "c:\\Users\\ivan\\AppData\\Local\\Programs\\Python\\Python311\\Lib\\site-packages\\sklearn\\linear_model\\_coordinate_descent.py:628: ConvergenceWarning: Objective did not converge. You might want to increase the number of iterations, check the scale of the features or consider increasing regularisation. Duality gap: 3.537e+07, tolerance: 1.597e+07\n",
      "  model = cd_fast.enet_coordinate_descent(\n",
      "c:\\Users\\ivan\\AppData\\Local\\Programs\\Python\\Python311\\Lib\\site-packages\\sklearn\\linear_model\\_coordinate_descent.py:628: ConvergenceWarning: Objective did not converge. You might want to increase the number of iterations, check the scale of the features or consider increasing regularisation. Duality gap: 3.230e+07, tolerance: 1.427e+07\n",
      "  model = cd_fast.enet_coordinate_descent(\n",
      "c:\\Users\\ivan\\AppData\\Local\\Programs\\Python\\Python311\\Lib\\site-packages\\sklearn\\linear_model\\_coordinate_descent.py:628: ConvergenceWarning: Objective did not converge. You might want to increase the number of iterations, check the scale of the features or consider increasing regularisation. Duality gap: 2.219e+07, tolerance: 9.671e+06\n",
      "  model = cd_fast.enet_coordinate_descent(\n",
      "c:\\Users\\ivan\\AppData\\Local\\Programs\\Python\\Python311\\Lib\\site-packages\\sklearn\\linear_model\\_coordinate_descent.py:628: ConvergenceWarning: Objective did not converge. You might want to increase the number of iterations, check the scale of the features or consider increasing regularisation. Duality gap: 3.155e+07, tolerance: 1.430e+07\n",
      "  model = cd_fast.enet_coordinate_descent(\n",
      "c:\\Users\\ivan\\AppData\\Local\\Programs\\Python\\Python311\\Lib\\site-packages\\sklearn\\linear_model\\_coordinate_descent.py:628: ConvergenceWarning: Objective did not converge. You might want to increase the number of iterations, check the scale of the features or consider increasing regularisation. Duality gap: 3.010e+07, tolerance: 1.323e+07\n",
      "  model = cd_fast.enet_coordinate_descent(\n",
      "c:\\Users\\ivan\\AppData\\Local\\Programs\\Python\\Python311\\Lib\\site-packages\\sklearn\\linear_model\\_coordinate_descent.py:628: ConvergenceWarning: Objective did not converge. You might want to increase the number of iterations, check the scale of the features or consider increasing regularisation. Duality gap: 3.327e+07, tolerance: 1.436e+07\n",
      "  model = cd_fast.enet_coordinate_descent(\n",
      "c:\\Users\\ivan\\AppData\\Local\\Programs\\Python\\Python311\\Lib\\site-packages\\sklearn\\linear_model\\_coordinate_descent.py:628: ConvergenceWarning: Objective did not converge. You might want to increase the number of iterations, check the scale of the features or consider increasing regularisation. Duality gap: 3.301e+07, tolerance: 1.335e+07\n",
      "  model = cd_fast.enet_coordinate_descent(\n",
      "c:\\Users\\ivan\\AppData\\Local\\Programs\\Python\\Python311\\Lib\\site-packages\\sklearn\\linear_model\\_coordinate_descent.py:628: ConvergenceWarning: Objective did not converge. You might want to increase the number of iterations, check the scale of the features or consider increasing regularisation. Duality gap: 3.186e+07, tolerance: 1.469e+07\n",
      "  model = cd_fast.enet_coordinate_descent(\n",
      "c:\\Users\\ivan\\AppData\\Local\\Programs\\Python\\Python311\\Lib\\site-packages\\sklearn\\linear_model\\_coordinate_descent.py:628: ConvergenceWarning: Objective did not converge. You might want to increase the number of iterations, check the scale of the features or consider increasing regularisation. Duality gap: 2.590e+07, tolerance: 1.382e+07\n",
      "  model = cd_fast.enet_coordinate_descent(\n",
      "c:\\Users\\ivan\\AppData\\Local\\Programs\\Python\\Python311\\Lib\\site-packages\\sklearn\\linear_model\\_coordinate_descent.py:628: ConvergenceWarning: Objective did not converge. You might want to increase the number of iterations, check the scale of the features or consider increasing regularisation. Duality gap: 3.303e+07, tolerance: 1.363e+07\n",
      "  model = cd_fast.enet_coordinate_descent(\n",
      "c:\\Users\\ivan\\AppData\\Local\\Programs\\Python\\Python311\\Lib\\site-packages\\sklearn\\linear_model\\_coordinate_descent.py:628: ConvergenceWarning: Objective did not converge. You might want to increase the number of iterations, check the scale of the features or consider increasing regularisation. Duality gap: 2.726e+07, tolerance: 1.235e+07\n",
      "  model = cd_fast.enet_coordinate_descent(\n",
      "c:\\Users\\ivan\\AppData\\Local\\Programs\\Python\\Python311\\Lib\\site-packages\\sklearn\\linear_model\\_coordinate_descent.py:628: ConvergenceWarning: Objective did not converge. You might want to increase the number of iterations, check the scale of the features or consider increasing regularisation. Duality gap: 2.952e+07, tolerance: 1.437e+07\n",
      "  model = cd_fast.enet_coordinate_descent(\n",
      "c:\\Users\\ivan\\AppData\\Local\\Programs\\Python\\Python311\\Lib\\site-packages\\sklearn\\linear_model\\_coordinate_descent.py:628: ConvergenceWarning: Objective did not converge. You might want to increase the number of iterations, check the scale of the features or consider increasing regularisation. Duality gap: 3.299e+07, tolerance: 1.451e+07\n",
      "  model = cd_fast.enet_coordinate_descent(\n",
      "c:\\Users\\ivan\\AppData\\Local\\Programs\\Python\\Python311\\Lib\\site-packages\\sklearn\\linear_model\\_coordinate_descent.py:628: ConvergenceWarning: Objective did not converge. You might want to increase the number of iterations, check the scale of the features or consider increasing regularisation. Duality gap: 3.172e+07, tolerance: 1.400e+07\n",
      "  model = cd_fast.enet_coordinate_descent(\n",
      "c:\\Users\\ivan\\AppData\\Local\\Programs\\Python\\Python311\\Lib\\site-packages\\sklearn\\linear_model\\_coordinate_descent.py:628: ConvergenceWarning: Objective did not converge. You might want to increase the number of iterations, check the scale of the features or consider increasing regularisation. Duality gap: 3.225e+07, tolerance: 1.515e+07\n",
      "  model = cd_fast.enet_coordinate_descent(\n",
      "c:\\Users\\ivan\\AppData\\Local\\Programs\\Python\\Python311\\Lib\\site-packages\\sklearn\\linear_model\\_coordinate_descent.py:628: ConvergenceWarning: Objective did not converge. You might want to increase the number of iterations, check the scale of the features or consider increasing regularisation. Duality gap: 3.102e+07, tolerance: 1.501e+07\n",
      "  model = cd_fast.enet_coordinate_descent(\n",
      "c:\\Users\\ivan\\AppData\\Local\\Programs\\Python\\Python311\\Lib\\site-packages\\sklearn\\linear_model\\_coordinate_descent.py:628: ConvergenceWarning: Objective did not converge. You might want to increase the number of iterations, check the scale of the features or consider increasing regularisation. Duality gap: 2.889e+07, tolerance: 1.302e+07\n",
      "  model = cd_fast.enet_coordinate_descent(\n",
      "c:\\Users\\ivan\\AppData\\Local\\Programs\\Python\\Python311\\Lib\\site-packages\\sklearn\\linear_model\\_coordinate_descent.py:628: ConvergenceWarning: Objective did not converge. You might want to increase the number of iterations, check the scale of the features or consider increasing regularisation. Duality gap: 3.476e+07, tolerance: 1.538e+07\n",
      "  model = cd_fast.enet_coordinate_descent(\n",
      "c:\\Users\\ivan\\AppData\\Local\\Programs\\Python\\Python311\\Lib\\site-packages\\sklearn\\linear_model\\_coordinate_descent.py:628: ConvergenceWarning: Objective did not converge. You might want to increase the number of iterations, check the scale of the features or consider increasing regularisation. Duality gap: 2.691e+07, tolerance: 1.325e+07\n",
      "  model = cd_fast.enet_coordinate_descent(\n",
      "c:\\Users\\ivan\\AppData\\Local\\Programs\\Python\\Python311\\Lib\\site-packages\\sklearn\\linear_model\\_coordinate_descent.py:628: ConvergenceWarning: Objective did not converge. You might want to increase the number of iterations, check the scale of the features or consider increasing regularisation. Duality gap: 2.742e+07, tolerance: 1.198e+07\n",
      "  model = cd_fast.enet_coordinate_descent(\n",
      "c:\\Users\\ivan\\AppData\\Local\\Programs\\Python\\Python311\\Lib\\site-packages\\sklearn\\linear_model\\_coordinate_descent.py:628: ConvergenceWarning: Objective did not converge. You might want to increase the number of iterations, check the scale of the features or consider increasing regularisation. Duality gap: 3.266e+07, tolerance: 1.486e+07\n",
      "  model = cd_fast.enet_coordinate_descent(\n",
      "c:\\Users\\ivan\\AppData\\Local\\Programs\\Python\\Python311\\Lib\\site-packages\\sklearn\\linear_model\\_coordinate_descent.py:628: ConvergenceWarning: Objective did not converge. You might want to increase the number of iterations, check the scale of the features or consider increasing regularisation. Duality gap: 2.772e+07, tolerance: 1.389e+07\n",
      "  model = cd_fast.enet_coordinate_descent(\n",
      "c:\\Users\\ivan\\AppData\\Local\\Programs\\Python\\Python311\\Lib\\site-packages\\sklearn\\linear_model\\_coordinate_descent.py:628: ConvergenceWarning: Objective did not converge. You might want to increase the number of iterations, check the scale of the features or consider increasing regularisation. Duality gap: 3.160e+07, tolerance: 1.337e+07\n",
      "  model = cd_fast.enet_coordinate_descent(\n",
      "c:\\Users\\ivan\\AppData\\Local\\Programs\\Python\\Python311\\Lib\\site-packages\\sklearn\\linear_model\\_coordinate_descent.py:628: ConvergenceWarning: Objective did not converge. You might want to increase the number of iterations, check the scale of the features or consider increasing regularisation. Duality gap: 3.210e+07, tolerance: 1.407e+07\n",
      "  model = cd_fast.enet_coordinate_descent(\n",
      "c:\\Users\\ivan\\AppData\\Local\\Programs\\Python\\Python311\\Lib\\site-packages\\sklearn\\linear_model\\_coordinate_descent.py:628: ConvergenceWarning: Objective did not converge. You might want to increase the number of iterations, check the scale of the features or consider increasing regularisation. Duality gap: 2.718e+07, tolerance: 1.271e+07\n",
      "  model = cd_fast.enet_coordinate_descent(\n",
      "c:\\Users\\ivan\\AppData\\Local\\Programs\\Python\\Python311\\Lib\\site-packages\\sklearn\\linear_model\\_coordinate_descent.py:628: ConvergenceWarning: Objective did not converge. You might want to increase the number of iterations, check the scale of the features or consider increasing regularisation. Duality gap: 3.206e+07, tolerance: 1.565e+07\n",
      "  model = cd_fast.enet_coordinate_descent(\n",
      "c:\\Users\\ivan\\AppData\\Local\\Programs\\Python\\Python311\\Lib\\site-packages\\sklearn\\linear_model\\_coordinate_descent.py:628: ConvergenceWarning: Objective did not converge. You might want to increase the number of iterations, check the scale of the features or consider increasing regularisation. Duality gap: 3.383e+07, tolerance: 1.372e+07\n",
      "  model = cd_fast.enet_coordinate_descent(\n",
      "c:\\Users\\ivan\\AppData\\Local\\Programs\\Python\\Python311\\Lib\\site-packages\\sklearn\\linear_model\\_coordinate_descent.py:628: ConvergenceWarning: Objective did not converge. You might want to increase the number of iterations, check the scale of the features or consider increasing regularisation. Duality gap: 2.923e+07, tolerance: 1.343e+07\n",
      "  model = cd_fast.enet_coordinate_descent(\n",
      "c:\\Users\\ivan\\AppData\\Local\\Programs\\Python\\Python311\\Lib\\site-packages\\sklearn\\linear_model\\_coordinate_descent.py:628: ConvergenceWarning: Objective did not converge. You might want to increase the number of iterations, check the scale of the features or consider increasing regularisation. Duality gap: 3.349e+07, tolerance: 1.472e+07\n",
      "  model = cd_fast.enet_coordinate_descent(\n",
      "c:\\Users\\ivan\\AppData\\Local\\Programs\\Python\\Python311\\Lib\\site-packages\\sklearn\\linear_model\\_coordinate_descent.py:628: ConvergenceWarning: Objective did not converge. You might want to increase the number of iterations, check the scale of the features or consider increasing regularisation. Duality gap: 3.170e+07, tolerance: 1.481e+07\n",
      "  model = cd_fast.enet_coordinate_descent(\n",
      "c:\\Users\\ivan\\AppData\\Local\\Programs\\Python\\Python311\\Lib\\site-packages\\sklearn\\linear_model\\_coordinate_descent.py:628: ConvergenceWarning: Objective did not converge. You might want to increase the number of iterations, check the scale of the features or consider increasing regularisation. Duality gap: 2.906e+07, tolerance: 1.290e+07\n",
      "  model = cd_fast.enet_coordinate_descent(\n",
      "c:\\Users\\ivan\\AppData\\Local\\Programs\\Python\\Python311\\Lib\\site-packages\\sklearn\\linear_model\\_coordinate_descent.py:628: ConvergenceWarning: Objective did not converge. You might want to increase the number of iterations, check the scale of the features or consider increasing regularisation. Duality gap: 3.669e+07, tolerance: 1.637e+07\n",
      "  model = cd_fast.enet_coordinate_descent(\n",
      "c:\\Users\\ivan\\AppData\\Local\\Programs\\Python\\Python311\\Lib\\site-packages\\sklearn\\linear_model\\_coordinate_descent.py:628: ConvergenceWarning: Objective did not converge. You might want to increase the number of iterations, check the scale of the features or consider increasing regularisation. Duality gap: 2.998e+07, tolerance: 1.495e+07\n",
      "  model = cd_fast.enet_coordinate_descent(\n",
      "c:\\Users\\ivan\\AppData\\Local\\Programs\\Python\\Python311\\Lib\\site-packages\\sklearn\\linear_model\\_coordinate_descent.py:628: ConvergenceWarning: Objective did not converge. You might want to increase the number of iterations, check the scale of the features or consider increasing regularisation. Duality gap: 3.250e+07, tolerance: 1.495e+07\n",
      "  model = cd_fast.enet_coordinate_descent(\n",
      "c:\\Users\\ivan\\AppData\\Local\\Programs\\Python\\Python311\\Lib\\site-packages\\sklearn\\linear_model\\_coordinate_descent.py:628: ConvergenceWarning: Objective did not converge. You might want to increase the number of iterations, check the scale of the features or consider increasing regularisation. Duality gap: 2.886e+07, tolerance: 1.387e+07\n",
      "  model = cd_fast.enet_coordinate_descent(\n",
      "c:\\Users\\ivan\\AppData\\Local\\Programs\\Python\\Python311\\Lib\\site-packages\\sklearn\\linear_model\\_coordinate_descent.py:628: ConvergenceWarning: Objective did not converge. You might want to increase the number of iterations, check the scale of the features or consider increasing regularisation. Duality gap: 3.519e+07, tolerance: 1.562e+07\n",
      "  model = cd_fast.enet_coordinate_descent(\n",
      "c:\\Users\\ivan\\AppData\\Local\\Programs\\Python\\Python311\\Lib\\site-packages\\sklearn\\linear_model\\_coordinate_descent.py:628: ConvergenceWarning: Objective did not converge. You might want to increase the number of iterations, check the scale of the features or consider increasing regularisation. Duality gap: 3.940e+07, tolerance: 1.756e+07\n",
      "  model = cd_fast.enet_coordinate_descent(\n"
     ]
    },
    {
     "name": "stdout",
     "output_type": "stream",
     "text": [
      "lambda val:  0.1 \t RMSE:  413.8495747463398 \t 10 ['tamano', 'piscina', 'parking', 'playa', 'balcon', 'vacacional', 'vistas', 'es_casa', 'coruna', 'oleiros']\n",
      "lambda val:  0.5 \t RMSE:  410.7342228250872 \t 10 ['tamano', 'piscina', 'densidad', 'parking', 'playa', 'balcon', 'vacacional', 'vistas', 'es_casa', 'oleiros']\n",
      "lambda val:  1 \t RMSE:  411.41486003533197 \t 10 ['tamano', 'piscina', 'densidad', 'parking', 'playa', 'balcon', 'vacacional', 'vistas', 'es_casa', 'oleiros']\n",
      "lambda val:  2 \t RMSE:  409.09525468920583 \t 10 ['tamano', 'piscina', 'densidad', 'parking', 'playa', 'balcon', 'vacacional', 'vistas', 'es_casa', 'oleiros']\n",
      "lambda val:  4 \t RMSE:  411.73706143222824 \t 7 ['tamano', 'piscina', 'densidad', 'playa', 'vistas', 'es_casa', 'oleiros']\n",
      "lambda val:  5 \t RMSE:  414.6510360584561 \t 6 ['tamano', 'densidad', 'playa', 'vistas', 'es_casa', 'oleiros']\n",
      "lambda val:  7 \t RMSE:  410.91916932503113 \t 6 ['tamano', 'densidad', 'playa', 'vistas', 'es_casa', 'oleiros']\n",
      "lambda val:  9 \t RMSE:  411.8666400726182 \t 6 ['tamano', 'densidad', 'playa', 'vistas', 'es_casa', 'oleiros']\n",
      "lambda val:  10 \t RMSE:  418.0763314622108 \t 6 ['tamano', 'densidad', 'playa', 'vistas', 'es_casa', 'oleiros']\n",
      "lambda val:  15 \t RMSE:  423.1826197925337 \t 5 ['tamano', 'playa', 'vistas', 'es_casa', 'oleiros']\n",
      "lambda val:  20 \t RMSE:  430.84604696208373 \t 4 ['tamano', 'playa', 'vistas', 'es_casa']\n",
      "lambda val:  30 \t RMSE:  434.96009997725344 \t 2 ['tamano', 'playa']\n",
      "lambda val:  40 \t RMSE:  437.1227299344524 \t 1 ['tamano']\n",
      "lambda val:  50 \t RMSE:  435.9819820838959 \t 1 ['tamano']\n",
      "lambda val:  100 \t RMSE:  437.42606801739674 \t 1 ['tamano']\n"
     ]
    }
   ],
   "source": [
    "lambda_vals = [0.1, 0.5, 1, 2, 4, 5, 7, 9 ,10, 15, 20, 30, 40, 50, 100]\n",
    "scores_record= []\n",
    "models = []\n",
    "\n",
    "for val in lambda_vals:\n",
    "    model = linear_model.Lasso(alpha=val, max_iter=10000, tol=0.1)\n",
    "\n",
    "    rkf = RepeatedKFold(n_splits=5, n_repeats=10)\n",
    "    scores = cross_val_score(model, x_train, y_train, scoring='neg_mean_squared_error', cv=rkf)\n",
    "    scores = np.sqrt(np.abs(scores))\n",
    "\n",
    "    scores_mean = np.mean(scores)\n",
    "    scores_record.append(scores_mean)\n",
    "\n",
    "    model.fit(x_train, y_train)\n",
    "    models.append(model)\n",
    "    cols_selected = x_train.columns[model.coef_ > 0.0001]\n",
    "    print(\"lambda val: \", val, '\\t', \"RMSE: \", scores_mean, '\\t', len(cols_selected), cols_selected.to_list())"
   ]
  },
  {
   "cell_type": "code",
   "execution_count": 15,
   "metadata": {},
   "outputs": [
    {
     "name": "stdout",
     "output_type": "stream",
     "text": [
      "R2 Scored:  0.3828136716884596\n"
     ]
    }
   ],
   "source": [
    "model = LinearRegression()\n",
    "model.fit(x_train, y_train)\n",
    "r2_scored = model.score(x_test, y_test)\n",
    "print(\"R2 Scored: \", r2_scored)"
   ]
  }
 ],
 "metadata": {
  "kernelspec": {
   "display_name": "Python 3",
   "language": "python",
   "name": "python3"
  },
  "language_info": {
   "codemirror_mode": {
    "name": "ipython",
    "version": 3
   },
   "file_extension": ".py",
   "mimetype": "text/x-python",
   "name": "python",
   "nbconvert_exporter": "python",
   "pygments_lexer": "ipython3",
   "version": "3.11.4"
  },
  "orig_nbformat": 4
 },
 "nbformat": 4,
 "nbformat_minor": 2
}
