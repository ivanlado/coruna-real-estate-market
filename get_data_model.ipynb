{
 "cells": [
  {
   "cell_type": "code",
   "execution_count": 1,
   "metadata": {},
   "outputs": [],
   "source": [
    "import pandas as pd\n",
    "from bd import *\n",
    "from get_data import *"
   ]
  },
  {
   "cell_type": "code",
   "execution_count": 2,
   "metadata": {},
   "outputs": [
    {
     "name": "stdout",
     "output_type": "stream",
     "text": [
      "Database object created\n"
     ]
    },
    {
     "name": "stderr",
     "output_type": "stream",
     "text": [
      "c:\\Users\\ivan\\Desktop\\Coding\\corunaRealEstateMarket\\bd.py:46: UserWarning: pandas only supports SQLAlchemy connectable (engine/connection) or database string URI or sqlite3 DBAPI2 connection. Other DBAPI2 objects are not tested. Please consider using SQLAlchemy.\n",
      "  df = pd.read_sql_query(query, self.connection)\n"
     ]
    }
   ],
   "source": [
    "data = get_data_model_v1()\n",
    "# col description to lower case\n",
    "data['descripcion'] = data['descripcion'].str.lower()\n",
    "data['descripcion'] = data['descripcion'].apply(lambda x: x.replace('á', 'a') if x is not None else x)\n",
    "data['descripcion'] = data['descripcion'].apply(lambda x: x.replace('é', 'e') if x is not None else x)\n",
    "data['descripcion'] = data['descripcion'].apply(lambda x: x.replace('í', 'i') if x is not None else x)\n",
    "data['descripcion'] = data['descripcion'].apply(lambda x: x.replace('ó', 'o') if x is not None else x)\n",
    "data['descripcion'] = data['descripcion'].apply(lambda x: x.replace('ú', 'u') if x is not None else x)\n",
    "\n",
    "data_municipios, municipios_list = get_data_municipios()"
   ]
  },
  {
   "cell_type": "code",
   "execution_count": 63,
   "metadata": {},
   "outputs": [
    {
     "name": "stdout",
     "output_type": "stream",
     "text": [
      "kilate servicios inmobiliarios alquila este piso a estrenar recien reformado en pleno centro de la ciudad en la calle orzan la vivienda se alquila sin amueblar y se distribuye en 3 dormitorios uno de ellos con vestidor 1 baño completo con ducha salon comedor y cocina totalmente equipada la co\n"
     ]
    }
   ],
   "source": [
    "print(data.loc[i+1, 'descripcion'])\n",
    "i+=1"
   ]
  },
  {
   "cell_type": "code",
   "execution_count": 64,
   "metadata": {},
   "outputs": [
    {
     "name": "stdout",
     "output_type": "stream",
     "text": [
      "lujo 10\n",
      "urbanizacion 29\n",
      "reformado 114\n",
      "ubicacion_excepcional 3\n",
      "duplex 29\n",
      "atico 25\n",
      "villa 2\n",
      "climalit 12\n",
      "aire_acondicionado 0\n",
      "sin muebles 59\n",
      "electrico 9\n",
      "transporte 55\n",
      "gastos_incluidos 11\n",
      "estrenar 63\n"
     ]
    }
   ],
   "source": [
    "data['piscina'] = data['descripcion'].str.contains('piscina')\n",
    "data['parking'] = data['extra_info'].str.contains('piscina') | data['descripcion'].str.contains('plaza de garaje') | data['descripcion'].str.contains('plaza garaje')\n",
    "data['estudiantes'] = data['descripcion'].str.contains('estudiante') | data['descripcion'].str.contains('escolar')\n",
    "data['playa'] = data['descripcion'].str.contains('playa')\n",
    "data['balcon'] =  data['descripcion'].str.contains('balcon') | data['descripcion'].str.contains('terraza')\n",
    "data['trastero'] = data['descripcion'].str.contains('trastero')\n",
    "data['vacacional'] = data['descripcion'].str.contains('vacacion')\n",
    "data['vistas'] = data['descripcion'].str.contains('vistas')\n",
    "data['sin_ascensor'] = data['descripcion'].str.contains('sin ascensor') | data['extra_info'].str.contains('sin ascensor')\n",
    "data['profesores'] = data['descripcion'].str.contains('profesor')\n",
    "data['amueblado'] = data['descripcion'].str.contains('amueblad')\n",
    "data['es_casa'] = data['titulo'].apply(lambda x : 1.0 if(x.lower().startswith('casa') or x.lower().startswith('chalet')) else 0.0)\n",
    "data['lujo'] = data['descripcion'].str.contains('lujo') | data['titulo'].str.contains('lujo')\n",
    "data['urbanizacion'] = data['descripcion'].str.contains('urbanizacion') | data['titulo'].str.contains('urbanizacion')\n",
    "data['reformado'] = data['descripcion'].str.contains('reformado') | data['titulo'].str.contains('reformado')\n",
    "data['ubicacion_excepcional'] = data['descripcion'].str.contains('ubicacion excepcional') | data['descripcion'].str.contains('buena situacion')\n",
    "data['duplex'] = data['descripcion'].str.contains('duplex') | data['titulo'].str.contains('duplex')\n",
    "data['atico'] = data['descripcion'].str.contains('atico') | data['titulo'].str.contains('atico') | data['descripcion'].str.contains('ático') | data['titulo'].str.contains('ático')\n",
    "data['villa'] = data['descripcion'].str.contains('villa') | data['titulo'].str.contains('villa')\n",
    "data['climalit'] = data['descripcion'].str.contains('climalit')\n",
    "data['aire_acondicionado'] = data['descripcion'].str.contains('aire acondicionado')\n",
    "data['sin muebles'] = data['descripcion'].str.contains('sin muebles') | data['descripcion'].str.contains('sin amueblar')\n",
    "data['electrico'] = data['descripcion'].str.contains('electrico')\n",
    "data['transporte'] = data['descripcion'].str.contains('estacion') | data['descripcion'].str.contains('parada')\n",
    "data['gastos_incluidos'] = data['descripcion'].str.contains('gastos') & data['descripcion'].str.contains('incluidos')\n",
    "data['estrenar'] = data['descripcion'].str.contains('estrenar') | data['titulo'].str.contains('estrenar')\n",
    "palabras_bonitas = ['fantastico', 'increible', 'bonito']\n",
    "\n",
    "\n",
    "print('lujo', sum(data['lujo']==True))\n",
    "print('urbanizacion', sum(data['urbanizacion']==True))\n",
    "print('reformado', sum(data['reformado']==True))\n",
    "print('ubicacion_excepcional', sum(data['ubicacion_excepcional']==True))\n",
    "print('duplex', sum(data['duplex']==True))\n",
    "print('atico', sum(data['atico']==True))\n",
    "print('villa', sum(data['villa']==True))\n",
    "print('climalit', sum(data['climalit']==True))\n",
    "print('aire_acondicionado', sum(data['aire_acondicionado']==True))  \n",
    "print('sin muebles', sum(data['sin muebles']==True))\n",
    "print('electrico', sum(data['electrico']==True))\n",
    "print('transporte', sum(data['transporte']==True))\n",
    "print('gastos_incluidos', sum(data['gastos_incluidos']==True))\n",
    "print('estrenar', sum(data['estrenar']==True))\n",
    "# print('piscina', sum(data['piscina']==True))\n",
    "# print('parking', sum(data['parking']==True))\n",
    "# print('estudiantes', sum(data['estudiantes']==True))\n",
    "# print('playa', sum(data['playa']==True))\n",
    "# print('balcon', sum(data['balcon']==True))\n",
    "# print('trastero', sum(data['trastero']==True))\n",
    "# print('vacacional', sum(data['vacacional']==True))\n",
    "# print('vistas', sum(data['vistas']==True))\n",
    "# print('sin_ascensor', sum(data['sin_ascensor']==True))\n",
    "# print('profesores', sum(data['profesores']==True))\n",
    "# print('amueblado', sum(data['amueblado']==True))\n",
    "# print('es_casa', sum(data['es_casa']==True))"
   ]
  },
  {
   "cell_type": "code",
   "execution_count": 112,
   "metadata": {},
   "outputs": [
    {
     "data": {
      "text/plain": [
       "0      43.367132\n",
       "1            NaN\n",
       "2      43.354833\n",
       "3      43.377569\n",
       "4      43.353641\n",
       "         ...    \n",
       "708    14.584444\n",
       "709    43.366621\n",
       "710    43.369740\n",
       "711    43.355776\n",
       "712    43.379833\n",
       "Name: direccion_x, Length: 713, dtype: float64"
      ]
     },
     "execution_count": 112,
     "metadata": {},
     "output_type": "execute_result"
    }
   ],
   "source": [
    "data['direccion_x']"
   ]
  },
  {
   "cell_type": "code",
   "execution_count": 140,
   "metadata": {},
   "outputs": [],
   "source": [
    "def function_replace(x, data_municipios):\n",
    "    mun = x['municipio']\n",
    "    dir_x = x['direccion_x']\n",
    "    dir_y = x['direccion_y']\n",
    "    if pd.isna(dir_x):\n",
    "        coor_x = data_municipios.loc[data_municipios['Municipio']==mun, 'direccion_x'].values[0]\n",
    "        x['direccion_x'] = coor_x\n",
    "    if pd.isna(dir_y):\n",
    "        coor_y = data_municipios.loc[data_municipios['Municipio']==mun, 'direccion_y'].values[0]\n",
    "        x['direccion_y'] = coor_y\n",
    "    return x\n",
    "\n",
    "data = data.apply(lambda x: function_replace(x, data_municipios), axis=1)"
   ]
  },
  {
   "cell_type": "code",
   "execution_count": 155,
   "metadata": {},
   "outputs": [],
   "source": [
    "def get_distance(x1,y1,x2,y2):\n",
    "    return np.sqrt((x1-x2)**2 + (y1-y2)**2)"
   ]
  },
  {
   "cell_type": "code",
   "execution_count": 157,
   "metadata": {},
   "outputs": [
    {
     "name": "stdout",
     "output_type": "stream",
     "text": [
      "43.37121527909069 -8.398312767015918\n"
     ]
    }
   ],
   "source": [
    "coruna_x = data_municipios.loc[data_municipios['Municipio']=='a coruña', 'direccion_x'].values[0]\n",
    "coruna_y = data_municipios.loc[data_municipios['Municipio']=='a coruña', 'direccion_y'].values[0]\n",
    "print(coruna_x, coruna_y)\n",
    "data['distancia_centro_coruna'] = data.apply(lambda x: get_distance(x['direccion_x'], x['direccion_y'], coruna_x, coruna_y), axis=1)"
   ]
  },
  {
   "cell_type": "code",
   "execution_count": 94,
   "metadata": {},
   "outputs": [
    {
     "ename": "KeyError",
     "evalue": "'direccion_x'",
     "output_type": "error",
     "traceback": [
      "\u001b[1;31m---------------------------------------------------------------------------\u001b[0m",
      "\u001b[1;31mKeyError\u001b[0m                                  Traceback (most recent call last)",
      "File \u001b[1;32mc:\\Users\\ivan\\AppData\\Local\\Programs\\Python\\Python311\\Lib\\site-packages\\pandas\\core\\indexes\\base.py:3802\u001b[0m, in \u001b[0;36mIndex.get_loc\u001b[1;34m(self, key, method, tolerance)\u001b[0m\n\u001b[0;32m   3801\u001b[0m \u001b[39mtry\u001b[39;00m:\n\u001b[1;32m-> 3802\u001b[0m     \u001b[39mreturn\u001b[39;00m \u001b[39mself\u001b[39;49m\u001b[39m.\u001b[39;49m_engine\u001b[39m.\u001b[39;49mget_loc(casted_key)\n\u001b[0;32m   3803\u001b[0m \u001b[39mexcept\u001b[39;00m \u001b[39mKeyError\u001b[39;00m \u001b[39mas\u001b[39;00m err:\n",
      "File \u001b[1;32mc:\\Users\\ivan\\AppData\\Local\\Programs\\Python\\Python311\\Lib\\site-packages\\pandas\\_libs\\index.pyx:138\u001b[0m, in \u001b[0;36mpandas._libs.index.IndexEngine.get_loc\u001b[1;34m()\u001b[0m\n",
      "File \u001b[1;32mc:\\Users\\ivan\\AppData\\Local\\Programs\\Python\\Python311\\Lib\\site-packages\\pandas\\_libs\\index.pyx:165\u001b[0m, in \u001b[0;36mpandas._libs.index.IndexEngine.get_loc\u001b[1;34m()\u001b[0m\n",
      "File \u001b[1;32mpandas\\_libs\\hashtable_class_helper.pxi:5745\u001b[0m, in \u001b[0;36mpandas._libs.hashtable.PyObjectHashTable.get_item\u001b[1;34m()\u001b[0m\n",
      "File \u001b[1;32mpandas\\_libs\\hashtable_class_helper.pxi:5753\u001b[0m, in \u001b[0;36mpandas._libs.hashtable.PyObjectHashTable.get_item\u001b[1;34m()\u001b[0m\n",
      "\u001b[1;31mKeyError\u001b[0m: 'direccion_x'",
      "\nThe above exception was the direct cause of the following exception:\n",
      "\u001b[1;31mKeyError\u001b[0m                                  Traceback (most recent call last)",
      "Cell \u001b[1;32mIn[94], line 1\u001b[0m\n\u001b[1;32m----> 1\u001b[0m data_municipios[\u001b[39m'\u001b[39;49m\u001b[39mdireccion_x\u001b[39;49m\u001b[39m'\u001b[39;49m]\n",
      "File \u001b[1;32mc:\\Users\\ivan\\AppData\\Local\\Programs\\Python\\Python311\\Lib\\site-packages\\pandas\\core\\frame.py:3807\u001b[0m, in \u001b[0;36mDataFrame.__getitem__\u001b[1;34m(self, key)\u001b[0m\n\u001b[0;32m   3805\u001b[0m \u001b[39mif\u001b[39;00m \u001b[39mself\u001b[39m\u001b[39m.\u001b[39mcolumns\u001b[39m.\u001b[39mnlevels \u001b[39m>\u001b[39m \u001b[39m1\u001b[39m:\n\u001b[0;32m   3806\u001b[0m     \u001b[39mreturn\u001b[39;00m \u001b[39mself\u001b[39m\u001b[39m.\u001b[39m_getitem_multilevel(key)\n\u001b[1;32m-> 3807\u001b[0m indexer \u001b[39m=\u001b[39m \u001b[39mself\u001b[39;49m\u001b[39m.\u001b[39;49mcolumns\u001b[39m.\u001b[39;49mget_loc(key)\n\u001b[0;32m   3808\u001b[0m \u001b[39mif\u001b[39;00m is_integer(indexer):\n\u001b[0;32m   3809\u001b[0m     indexer \u001b[39m=\u001b[39m [indexer]\n",
      "File \u001b[1;32mc:\\Users\\ivan\\AppData\\Local\\Programs\\Python\\Python311\\Lib\\site-packages\\pandas\\core\\indexes\\base.py:3804\u001b[0m, in \u001b[0;36mIndex.get_loc\u001b[1;34m(self, key, method, tolerance)\u001b[0m\n\u001b[0;32m   3802\u001b[0m     \u001b[39mreturn\u001b[39;00m \u001b[39mself\u001b[39m\u001b[39m.\u001b[39m_engine\u001b[39m.\u001b[39mget_loc(casted_key)\n\u001b[0;32m   3803\u001b[0m \u001b[39mexcept\u001b[39;00m \u001b[39mKeyError\u001b[39;00m \u001b[39mas\u001b[39;00m err:\n\u001b[1;32m-> 3804\u001b[0m     \u001b[39mraise\u001b[39;00m \u001b[39mKeyError\u001b[39;00m(key) \u001b[39mfrom\u001b[39;00m \u001b[39merr\u001b[39;00m\n\u001b[0;32m   3805\u001b[0m \u001b[39mexcept\u001b[39;00m \u001b[39mTypeError\u001b[39;00m:\n\u001b[0;32m   3806\u001b[0m     \u001b[39m# If we have a listlike key, _check_indexing_error will raise\u001b[39;00m\n\u001b[0;32m   3807\u001b[0m     \u001b[39m#  InvalidIndexError. Otherwise we fall through and re-raise\u001b[39;00m\n\u001b[0;32m   3808\u001b[0m     \u001b[39m#  the TypeError.\u001b[39;00m\n\u001b[0;32m   3809\u001b[0m     \u001b[39mself\u001b[39m\u001b[39m.\u001b[39m_check_indexing_error(key)\n",
      "\u001b[1;31mKeyError\u001b[0m: 'direccion_x'"
     ]
    }
   ],
   "source": [
    "data_municipios['direccion_x']"
   ]
  }
 ],
 "metadata": {
  "kernelspec": {
   "display_name": "Python 3",
   "language": "python",
   "name": "python3"
  },
  "language_info": {
   "codemirror_mode": {
    "name": "ipython",
    "version": 3
   },
   "file_extension": ".py",
   "mimetype": "text/x-python",
   "name": "python",
   "nbconvert_exporter": "python",
   "pygments_lexer": "ipython3",
   "version": "3.11.4"
  },
  "orig_nbformat": 4
 },
 "nbformat": 4,
 "nbformat_minor": 2
}
