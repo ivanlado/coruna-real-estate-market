{
 "cells": [
  {
   "cell_type": "code",
   "execution_count": 1,
   "metadata": {},
   "outputs": [],
   "source": [
    "import pandas as pd\n",
    "import numpy as np\n",
    "import matplotlib.pyplot as plt\n",
    "import seaborn as sns\n",
    "import pickle\n",
    "import os\n",
    "import sys\n",
    "from sklearn.model_selection import train_test_split\n",
    "from sklearn.linear_model import LinearRegression\n",
    "from sklearn import linear_model\n",
    "from sklearn.metrics import mean_squared_error, r2_score, mean_absolute_error\n",
    "from sklearn.preprocessing import StandardScaler\n",
    "from sklearn.preprocessing import PolynomialFeatures\n",
    "from sklearn.model_selection import cross_val_score\n",
    "from sklearn.feature_selection import SequentialFeatureSelector\n",
    "\n",
    "from get_data import *"
   ]
  },
  {
   "cell_type": "markdown",
   "metadata": {},
   "source": [
    "### Data load"
   ]
  },
  {
   "cell_type": "code",
   "execution_count": 2,
   "metadata": {},
   "outputs": [
    {
     "name": "stdout",
     "output_type": "stream",
     "text": [
      "Database object created\n",
      "<class 'pandas.core.frame.DataFrame'>\n",
      "Int64Index: 637 entries, 0 to 636\n",
      "Data columns (total 27 columns):\n",
      " #   Column              Non-Null Count  Dtype  \n",
      "---  ------              --------------  -----  \n",
      " 0   id                  637 non-null    int64  \n",
      " 1   titulo              637 non-null    object \n",
      " 2   descripcion         625 non-null    object \n",
      " 3   extra_info          633 non-null    object \n",
      " 4   n_habitaciones      637 non-null    int64  \n",
      " 5   tamano              637 non-null    int64  \n",
      " 6   precio              637 non-null    float64\n",
      " 7   municipio           637 non-null    object \n",
      " 8   n_banos             637 non-null    int64  \n",
      " 9   n_plazas_garaje     637 non-null    int64  \n",
      " 10  direccion           637 non-null    object \n",
      " 11  landmarks_cercanos  637 non-null    object \n",
      " 12  piscina             637 non-null    bool   \n",
      " 13  valoracion          637 non-null    int64  \n",
      " 14  densidad            637 non-null    int64  \n",
      " 15  pib_capita          637 non-null    float64\n",
      " 16  parking             637 non-null    bool   \n",
      " 17  estudiantes         637 non-null    bool   \n",
      " 18  playa               637 non-null    bool   \n",
      " 19  balcon              637 non-null    bool   \n",
      " 20  trastero            637 non-null    bool   \n",
      " 21  vacacional          637 non-null    bool   \n",
      " 22  vistas              637 non-null    bool   \n",
      " 23  sin_ascensor        637 non-null    bool   \n",
      " 24  profesores          637 non-null    bool   \n",
      " 25  amueblado           637 non-null    bool   \n",
      " 26  es_casa             637 non-null    float64\n",
      "dtypes: bool(11), float64(3), int64(7), object(6)\n",
      "memory usage: 91.4+ KB\n"
     ]
    },
    {
     "name": "stderr",
     "output_type": "stream",
     "text": [
      "c:\\Users\\ivan\\Desktop\\Coding\\corunaRealEstateMarket\\bd.py:46: UserWarning: pandas only supports SQLAlchemy connectable (engine/connection) or database string URI or sqlite3 DBAPI2 connection. Other DBAPI2 objects are not tested. Please consider using SQLAlchemy.\n",
      "  df = pd.read_sql_query(query, self.connection)\n"
     ]
    }
   ],
   "source": [
    "ds = get_data_model_v1()\n",
    "ds.info()"
   ]
  },
  {
   "cell_type": "code",
   "execution_count": 3,
   "metadata": {},
   "outputs": [
    {
     "name": "stdout",
     "output_type": "stream",
     "text": [
      "<class 'pandas.core.frame.DataFrame'>\n",
      "Int64Index: 637 entries, 0 to 636\n",
      "Data columns (total 6 columns):\n",
      " #   Column              Non-Null Count  Dtype \n",
      "---  ------              --------------  ----- \n",
      " 0   titulo              637 non-null    object\n",
      " 1   descripcion         625 non-null    object\n",
      " 2   extra_info          633 non-null    object\n",
      " 3   municipio           637 non-null    object\n",
      " 4   direccion           637 non-null    object\n",
      " 5   landmarks_cercanos  637 non-null    object\n",
      "dtypes: object(6)\n",
      "memory usage: 34.8+ KB\n"
     ]
    }
   ],
   "source": [
    "object_columns = ds.select_dtypes(include=['object']).columns.tolist()\n",
    "ds_object = ds[object_columns]\n",
    "ds_object.info()"
   ]
  },
  {
   "cell_type": "code",
   "execution_count": 4,
   "metadata": {},
   "outputs": [
    {
     "name": "stdout",
     "output_type": "stream",
     "text": [
      "Column n_banos has more than 20% of missing values.\n",
      "Column n_plazas_garaje has more than 20% of missing values.\n"
     ]
    }
   ],
   "source": [
    "cols = ds.columns\n",
    "cols_exclude = ['id', 'titulo', 'descripcion', 'extra_info', 'direccion', 'landmarks_cercanos', 'municipio']\n",
    "cols_check_nas = ['n_banos', 'n_plazas_garaje', 'valoracion']\n",
    "for col in cols_check_nas:\n",
    "    if sum(ds[col]==-1)/len(ds) > 0.25:\n",
    "        print(f'Column {col} has more than 20% of missing values.')\n",
    "        cols_exclude.append(col)\n",
    "\n",
    "cols_model = [col for col in cols if col not in cols_exclude]\n",
    "\n",
    "#convert int and bool columns to float\n",
    "for col in cols:\n",
    "    if ds[col].dtype == 'int64':\n",
    "        ds[col] = ds[col].astype('float64')\n",
    "    elif ds[col].dtype == 'object':\n",
    "        cols_exclude.append(col)\n",
    "    elif ds[col].dtype == 'bool':\n",
    "        ds[col] = ds[col].astype('float64')"
   ]
  },
  {
   "cell_type": "markdown",
   "metadata": {},
   "source": [
    "### Data visualization"
   ]
  },
  {
   "cell_type": "markdown",
   "metadata": {},
   "source": [
    "### Deal with NAs"
   ]
  },
  {
   "cell_type": "code",
   "execution_count": 5,
   "metadata": {},
   "outputs": [],
   "source": [
    "for col in cols_check_nas:\n",
    "    ds[col] = ds[col].fillna(np.mean(ds[col]))"
   ]
  },
  {
   "cell_type": "markdown",
   "metadata": {},
   "source": [
    "### Municipios column"
   ]
  },
  {
   "cell_type": "code",
   "execution_count": 6,
   "metadata": {},
   "outputs": [],
   "source": [
    "ds['coruna'] = ds[\"municipio\"].apply(lambda x: 1.0 if 'coru' in x else 0.0)\n",
    "ds['oleiros'] = ds[\"municipio\"].apply(lambda x: 1.0 if 'oleiros' in x else 0.0)\n",
    "ds['art_berg_camb'] = ds[\"municipio\"].apply(lambda x: 1.0 if ('artei' in x or 'berg' in x or 'cambr' in x) else 0.0)\n",
    "\n",
    "cols_model.append('coruna')\n",
    "cols_model.append('oleiros')\n",
    "cols_model.append('art_berg_camb')"
   ]
  },
  {
   "cell_type": "markdown",
   "metadata": {},
   "source": [
    "### Data split"
   ]
  },
  {
   "cell_type": "code",
   "execution_count": 51,
   "metadata": {},
   "outputs": [],
   "source": [
    "x = ds[cols_model].drop('precio', axis=1)\n",
    "y = ds['precio']\n",
    "\n",
    "# slit data into train and test\n",
    "x_train, x_test, y_train, y_test = train_test_split(x, y, test_size=0.2)\n",
    "\n",
    "# scaler = StandardScaler()"
   ]
  },
  {
   "cell_type": "markdown",
   "metadata": {},
   "source": [
    "### Model"
   ]
  },
  {
   "cell_type": "code",
   "execution_count": 52,
   "metadata": {},
   "outputs": [
    {
     "data": {
      "text/plain": [
       "362.2975833055367"
      ]
     },
     "execution_count": 52,
     "metadata": {},
     "output_type": "execute_result"
    }
   ],
   "source": [
    "model = linear_model.Lasso()\n",
    "scores = cross_val_score(model, x_train, y_train, cv=5, scoring='neg_mean_squared_error')\n",
    "scores = np.sqrt(np.abs(scores))\n",
    "\n",
    "np.mean(scores)"
   ]
  },
  {
   "cell_type": "code",
   "execution_count": 44,
   "metadata": {},
   "outputs": [
    {
     "name": "stdout",
     "output_type": "stream",
     "text": [
      "R2 Scored:  0.40761241229932943\n"
     ]
    }
   ],
   "source": [
    "model = linear_model.Lasso(alpha=10)\n",
    "model.fit(x_train, y_train)\n",
    "r2_scored = model.score(x_test, y_test)\n",
    "print(\"R2 Scored: \", r2_scored)"
   ]
  },
  {
   "cell_type": "code",
   "execution_count": 46,
   "metadata": {},
   "outputs": [
    {
     "data": {
      "text/plain": [
       "Index(['tamano', 'densidad', 'playa', 'vistas', 'oleiros'], dtype='object')"
      ]
     },
     "execution_count": 46,
     "metadata": {},
     "output_type": "execute_result"
    }
   ],
   "source": [
    "# get name columns coef > 0\n",
    "cols_coef = x_train.columns[model.coef_ > 0]\n",
    "cols_coef"
   ]
  },
  {
   "cell_type": "code",
   "execution_count": 47,
   "metadata": {},
   "outputs": [
    {
     "data": {
      "text/plain": [
       "tamano            0.656707\n",
       "es_casa           0.508830\n",
       "n_habitaciones    0.430743\n",
       "oleiros           0.259161\n",
       "sin_ascensor      0.233355\n",
       "amueblado         0.228033\n",
       "vistas            0.201227\n",
       "piscina           0.188358\n",
       "estudiantes       0.147420\n",
       "playa             0.136011\n",
       "pib_capita        0.132718\n",
       "coruna            0.117547\n",
       "densidad          0.105291\n",
       "art_berg_camb     0.063401\n",
       "profesores        0.042951\n",
       "trastero          0.031509\n",
       "parking           0.026320\n",
       "balcon            0.023787\n",
       "valoracion        0.018504\n",
       "vacacional        0.016390\n",
       "dtype: float64"
      ]
     },
     "execution_count": 47,
     "metadata": {},
     "output_type": "execute_result"
    }
   ],
   "source": [
    "abs(x.corrwith(y)).sort_values(ascending=False)"
   ]
  },
  {
   "cell_type": "markdown",
   "metadata": {},
   "source": [
    "### Evaluate model"
   ]
  },
  {
   "cell_type": "code",
   "execution_count": 48,
   "metadata": {},
   "outputs": [
    {
     "name": "stdout",
     "output_type": "stream",
     "text": [
      "Training RMSE score: 389.7758310777012.\n",
      "Testing RMSE score: 417.4312671568933\n",
      "\n",
      "Training MAE score: 222.80474055073597\n",
      "Testing MAE score: 232.93766504224644\n"
     ]
    }
   ],
   "source": [
    "y_train_pred = model.predict(x_train)\n",
    "y_test_pred = model.predict(x_test)\n",
    "\n",
    "rmse_train = np.sqrt(mean_squared_error(y_train, y_train_pred))\n",
    "rmse_test = np.sqrt(mean_squared_error(y_test, y_test_pred))\n",
    "print('Training RMSE score: {}.'.format(rmse_train))\n",
    "print('Testing RMSE score: {}\\n'.format(rmse_test))\n",
    "\n",
    "mae_train = mean_absolute_error(y_train, y_train_pred)\n",
    "mae_test = mean_absolute_error(y_test, y_test_pred)  \n",
    "print('Training MAE score: {}'.format(mae_train))\n",
    "print('Testing MAE score: {}'.format(mae_test))"
   ]
  },
  {
   "cell_type": "markdown",
   "metadata": {},
   "source": [
    "### Feature selection"
   ]
  },
  {
   "cell_type": "code",
   "execution_count": 20,
   "metadata": {},
   "outputs": [
    {
     "data": {
      "text/plain": [
       "['tamano', 'playa', 'sin_ascensor', 'es_casa', 'art_berg_camb']"
      ]
     },
     "execution_count": 20,
     "metadata": {},
     "output_type": "execute_result"
    }
   ],
   "source": [
    "model = LinearRegression()\n",
    "sfs = SequentialFeatureSelector(model, n_features_to_select=5)\n",
    "sfs.fit(x, y)\n",
    "\n",
    "idx = np.where(sfs.get_support())[0].tolist()\n",
    "[col for col in x.columns[idx]]"
   ]
  },
  {
   "cell_type": "code",
   "execution_count": 19,
   "metadata": {},
   "outputs": [
    {
     "data": {
      "text/plain": [
       "['tamano', 'es_casa', 'art_berg_camb']"
      ]
     },
     "execution_count": 19,
     "metadata": {},
     "output_type": "execute_result"
    }
   ],
   "source": [
    "idx = np.where(sfs.get_support())[0].tolist()\n",
    "[col for col in x.columns[idx]]"
   ]
  }
 ],
 "metadata": {
  "kernelspec": {
   "display_name": "Python 3",
   "language": "python",
   "name": "python3"
  },
  "language_info": {
   "codemirror_mode": {
    "name": "ipython",
    "version": 3
   },
   "file_extension": ".py",
   "mimetype": "text/x-python",
   "name": "python",
   "nbconvert_exporter": "python",
   "pygments_lexer": "ipython3",
   "version": "3.11.4"
  },
  "orig_nbformat": 4
 },
 "nbformat": 4,
 "nbformat_minor": 2
}
