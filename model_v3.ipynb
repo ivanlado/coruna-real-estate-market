{
 "cells": [
  {
   "cell_type": "code",
   "execution_count": 1,
   "metadata": {},
   "outputs": [],
   "source": [
    "import pandas as pd\n",
    "import numpy as np\n",
    "import matplotlib.pyplot as plt\n",
    "import seaborn as sns\n",
    "import pickle\n",
    "import os\n",
    "import sys\n",
    "from sklearn.model_selection import train_test_split\n",
    "from sklearn.linear_model import LinearRegression\n",
    "from sklearn.metrics import mean_squared_error, r2_score, mean_absolute_error\n",
    "from sklearn.preprocessing import StandardScaler\n",
    "from sklearn.preprocessing import PolynomialFeatures"
   ]
  },
  {
   "cell_type": "markdown",
   "metadata": {},
   "source": [
    "### Data load"
   ]
  },
  {
   "cell_type": "code",
   "execution_count": 2,
   "metadata": {},
   "outputs": [
    {
     "name": "stdout",
     "output_type": "stream",
     "text": [
      "<class 'pandas.core.frame.DataFrame'>\n",
      "RangeIndex: 695 entries, 0 to 694\n",
      "Data columns (total 10 columns):\n",
      " #   Column       Non-Null Count  Dtype  \n",
      "---  ------       --------------  -----  \n",
      " 0   id           695 non-null    int64  \n",
      " 1   title        695 non-null    object \n",
      " 2   n_rooms      675 non-null    float64\n",
      " 3   size         695 non-null    int64  \n",
      " 4   description  683 non-null    object \n",
      " 5   extra_info   689 non-null    object \n",
      " 6   image        682 non-null    object \n",
      " 7   img_no       695 non-null    int64  \n",
      " 8   price        695 non-null    float64\n",
      " 9   price_form   695 non-null    object \n",
      "dtypes: float64(2), int64(3), object(5)\n",
      "memory usage: 54.4+ KB\n"
     ]
    }
   ],
   "source": [
    "src_folder = os.path.join('data', 'idealista')\n",
    "\n",
    "# df is created\n",
    "ds = pd.DataFrame()\n",
    "\n",
    "for file in os.listdir(src_folder):\n",
    "    file = os.path.join(src_folder, file)\n",
    "    ds = pd.concat([ds, pd.read_csv(file)], ignore_index = True).drop_duplicates()\n",
    "\n",
    "ds = ds.reset_index(drop = True)\n",
    "ds.info()"
   ]
  },
  {
   "cell_type": "code",
   "execution_count": 3,
   "metadata": {},
   "outputs": [],
   "source": [
    "cols = ds.columns\n",
    "cols_exclude = []\n",
    "\n",
    "#convert int columns to float\n",
    "for col in cols:\n",
    "    if ds[col].dtype == 'int64':\n",
    "        ds[col] = ds[col].astype('float64')\n",
    "    elif ds[col].dtype == 'object':\n",
    "        cols_exclude.append(col)\n",
    "\n",
    "cols_model = [col for col in cols if col not in cols_exclude]"
   ]
  },
  {
   "cell_type": "markdown",
   "metadata": {},
   "source": [
    "### Deal with NAs"
   ]
  },
  {
   "cell_type": "code",
   "execution_count": 4,
   "metadata": {},
   "outputs": [],
   "source": [
    "ds['n_rooms'] = ds['n_rooms'].fillna(1)"
   ]
  },
  {
   "cell_type": "markdown",
   "metadata": {},
   "source": [
    "### Data split"
   ]
  },
  {
   "cell_type": "code",
   "execution_count": 6,
   "metadata": {},
   "outputs": [],
   "source": [
    "x = ds[cols_model].drop(['price', 'id'], axis=1)\n",
    "y_original = ds['price']\n",
    "y = y_original/ds['size']\n",
    "\n",
    "# slit data into train and test\n",
    "x_train, x_test, y_train, y_test = train_test_split(x, y, test_size=0.2)"
   ]
  },
  {
   "cell_type": "markdown",
   "metadata": {},
   "source": [
    "### Model"
   ]
  },
  {
   "cell_type": "code",
   "execution_count": 7,
   "metadata": {},
   "outputs": [
    {
     "name": "stdout",
     "output_type": "stream",
     "text": [
      "R2 Scored:  0.4726681710066656\n"
     ]
    }
   ],
   "source": [
    "model = LinearRegression()\n",
    "model.fit(x_train, y_train)\n",
    "r2_scored = model.score(x_test, y_test)\n",
    "print(\"R2 Scored: \", r2_scored)"
   ]
  },
  {
   "cell_type": "markdown",
   "metadata": {},
   "source": [
    "### Evaluate model"
   ]
  },
  {
   "cell_type": "markdown",
   "metadata": {},
   "source": [
    "y is price/m2"
   ]
  },
  {
   "cell_type": "code",
   "execution_count": 8,
   "metadata": {},
   "outputs": [
    {
     "name": "stdout",
     "output_type": "stream",
     "text": [
      "Training RMSE score: 3.7293389522141287.\n",
      "Training MAE score: 2.909203945005104.\n",
      "\n",
      "Testing RMSE score: 3.332768132400411\n",
      "Testing MAE score: 2.5934463481993593\n"
     ]
    }
   ],
   "source": [
    "y_train_pred = model.predict(x_train)\n",
    "rmse = np.sqrt(mean_squared_error(y_train, y_train_pred))\n",
    "mae = mean_absolute_error(y_train, y_train_pred)\n",
    "#print rmse and mae\n",
    "print('Training RMSE score: {}.'.format(rmse))\n",
    "print('Training MAE score: {}.\\n'.format(mae))\n",
    "\n",
    "\n",
    "y_test_pred = model.predict(x_test)\n",
    "rmse = np.sqrt(mean_squared_error(y_test, y_test_pred))\n",
    "mae = mean_absolute_error(y_test, y_test_pred)  \n",
    "print('Testing RMSE score: {}'.format(rmse))\n",
    "print('Testing MAE score: {}'.format(mae))"
   ]
  },
  {
   "cell_type": "markdown",
   "metadata": {},
   "source": [
    "y is price"
   ]
  },
  {
   "cell_type": "code",
   "execution_count": 9,
   "metadata": {},
   "outputs": [
    {
     "name": "stdout",
     "output_type": "stream",
     "text": [
      "Training RMSE score: 519.6493685763768.\n",
      "Training MAE score: 315.7952204896902.\n",
      "\n",
      "Testing RMSE score: 353.5871792952685\n",
      "Testing MAE score: 265.63492919695864\n"
     ]
    }
   ],
   "source": [
    "y_train_pred = model.predict(x_train)*x_train['size']\n",
    "rmse = np.sqrt(mean_squared_error(y_original[y_train.index], y_train_pred))\n",
    "mae = mean_absolute_error(y_original[y_train.index], y_train_pred)\n",
    "#print rmse and mae\n",
    "print('Training RMSE score: {}.'.format(rmse))\n",
    "print('Training MAE score: {}.\\n'.format(mae))\n",
    "\n",
    "\n",
    "y_test_pred = model.predict(x_test)*x_test['size']\n",
    "rmse = np.sqrt(mean_squared_error(y_original[y_test.index], y_test_pred))\n",
    "mae = mean_absolute_error(y_original[y_test.index], y_test_pred)  \n",
    "print('Testing RMSE score: {}'.format(rmse))\n",
    "print('Testing MAE score: {}'.format(mae))"
   ]
  }
 ],
 "metadata": {
  "kernelspec": {
   "display_name": "Python 3",
   "language": "python",
   "name": "python3"
  },
  "language_info": {
   "codemirror_mode": {
    "name": "ipython",
    "version": 3
   },
   "file_extension": ".py",
   "mimetype": "text/x-python",
   "name": "python",
   "nbconvert_exporter": "python",
   "pygments_lexer": "ipython3",
   "version": "3.11.4"
  },
  "orig_nbformat": 4
 },
 "nbformat": 4,
 "nbformat_minor": 2
}
