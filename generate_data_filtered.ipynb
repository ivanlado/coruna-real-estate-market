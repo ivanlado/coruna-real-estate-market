{
 "cells": [
  {
   "cell_type": "code",
   "execution_count": 51,
   "metadata": {},
   "outputs": [],
   "source": [
    "import pandas as pd\n",
    "import glob\n",
    "import os\n",
    "import shutil"
   ]
  },
  {
   "cell_type": "markdown",
   "metadata": {},
   "source": [
    "### Replicate folder structure"
   ]
  },
  {
   "cell_type": "code",
   "execution_count": 52,
   "metadata": {},
   "outputs": [],
   "source": [
    "src = \"./data_raw/\"\n",
    "dest_main_folder = \"./data_filtered/\"\n",
    "\n",
    "for folder in os.listdir(src):\n",
    "    os.makedirs(os.path.join(dest_main_folder, folder), exist_ok=True)"
   ]
  },
  {
   "cell_type": "markdown",
   "metadata": {},
   "source": [
    "### Idealista folder"
   ]
  },
  {
   "cell_type": "code",
   "execution_count": 53,
   "metadata": {},
   "outputs": [],
   "source": [
    "image_extensions = ['*.jpg', '*.jpeg', '*.png']\n",
    "src_main_folder = \"./data_raw/idealista/\"\n",
    "dest_main_folder = \"./data_filtered/idealista/\"\n",
    "\n",
    "for folder in os.listdir(src_main_folder):\n",
    "    src = os.path.join(src_main_folder, folder)\n",
    "    dest = os.path.join(dest_main_folder, folder)\n",
    "    os.makedirs(dest, exist_ok=True) # create folder for date\n",
    "    os.makedirs(os.path.join(dest, \"html\"), exist_ok=True) # create folder inside date folder for html files\n",
    "    for file in os.listdir(src):\n",
    "        # if it is a folder\n",
    "        if os.path.isdir(os.path.join(src, file)):\n",
    "            fs = os.path.join(src, file)\n",
    "            fd = os.path.join(dest, file)\n",
    "            os.makedirs(fd, exist_ok=True)\n",
    "            for ext in image_extensions:\n",
    "                for f in glob.glob(os.path.join(fs, ext)):\n",
    "                    shutil.copy(f, fd)\n",
    "        # if it is a file\n",
    "        else:\n",
    "            fd = os.path.join(dest, \"html\")\n",
    "            shutil.copy(os.path.join(src, file), fd)  \n"
   ]
  },
  {
   "cell_type": "markdown",
   "metadata": {},
   "source": [
    "### Ayuntamientos folder"
   ]
  },
  {
   "cell_type": "code",
   "execution_count": 54,
   "metadata": {},
   "outputs": [
    {
     "data": {
      "text/plain": [
       "'./data_filtered/ayuntamientos/'"
      ]
     },
     "execution_count": 54,
     "metadata": {},
     "output_type": "execute_result"
    }
   ],
   "source": [
    "src_main_folder = \"./data_raw/ayuntamientos/\"\n",
    "dest_main_folder = \"./data_filtered/ayuntamientos/\"\n",
    "\n",
    "shutil.copytree(src_main_folder, dest_main_folder, dirs_exist_ok=True)"
   ]
  },
  {
   "cell_type": "markdown",
   "metadata": {},
   "source": [
    "### Zonas folder"
   ]
  },
  {
   "cell_type": "code",
   "execution_count": 55,
   "metadata": {},
   "outputs": [
    {
     "data": {
      "text/plain": [
       "'./data_filtered/zonas/'"
      ]
     },
     "execution_count": 55,
     "metadata": {},
     "output_type": "execute_result"
    }
   ],
   "source": [
    "src_main_folder = \"./data_raw/zonas/\"\n",
    "dest_main_folder = \"./data_filtered/zonas/\"\n",
    "\n",
    "shutil.copytree(src_main_folder, dest_main_folder, dirs_exist_ok=True)"
   ]
  }
 ],
 "metadata": {
  "kernelspec": {
   "display_name": "Python 3",
   "language": "python",
   "name": "python3"
  },
  "language_info": {
   "codemirror_mode": {
    "name": "ipython",
    "version": 3
   },
   "file_extension": ".py",
   "mimetype": "text/x-python",
   "name": "python",
   "nbconvert_exporter": "python",
   "pygments_lexer": "ipython3",
   "version": "3.11.4"
  },
  "orig_nbformat": 4
 },
 "nbformat": 4,
 "nbformat_minor": 2
}
