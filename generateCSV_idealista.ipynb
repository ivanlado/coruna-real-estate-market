{
 "cells": [
  {
   "cell_type": "code",
   "execution_count": 6,
   "metadata": {},
   "outputs": [],
   "source": [
    "import pandas as pd\n",
    "import numpy as np\n",
    "import matplotlib.pyplot as plt\n",
    "import re\n",
    "import os\n",
    "from bs4 import BeautifulSoup"
   ]
  },
  {
   "cell_type": "markdown",
   "metadata": {},
   "source": [
    "### Auxiliar functions"
   ]
  },
  {
   "cell_type": "code",
   "execution_count": 7,
   "metadata": {},
   "outputs": [],
   "source": [
    "def generate_soup(file_path):\n",
    "    with open(file_path, 'r', encoding='utf-8') as f:\n",
    "        soup = BeautifulSoup(f, 'html.parser')\n",
    "    return soup"
   ]
  },
  {
   "cell_type": "code",
   "execution_count": 8,
   "metadata": {},
   "outputs": [],
   "source": [
    "def extract_data(soup):\n",
    "    for item in soup.find_all(\"article\", {'class':'item'}):\n",
    "        img = item.find(\"div\", {'class':'gallery-boost-first'}).find(\"img\")['src']\n",
    "        img = img.split('/')[-1]\n",
    "\n",
    "        img_no = item.find(\"picture\").find_all(\"span\")\n",
    "        img_no = max([int(i.get_text(strip=True)) for i in img_no if i.get_text(strip=True).isdigit()])\n",
    "\n",
    "        container_info = item.find(\"div\", {'class':'item-info-container--features'})\n",
    "\n",
    "        title = container_info.find(\"a\", {\"role\":\"heading\"}).get_text(strip=True)\n",
    "\n",
    "        id = container_info.find(\"a\", {\"role\":\"heading\"})[\"href\"].split('/')[-2]\n",
    "\n",
    "        price = container_info.find(\"div\", {'class':'price-row'})\n",
    "        price = container_info.find(\"span\", {'class':'item-price'}).get_text(strip=True)\n",
    "        price_form = price.split('/')[-1]\n",
    "        price = price.split('/')[0]\n",
    "\n",
    "        container_details = container_info.find(\"div\", {'class':'item-detail-char'})\n",
    "        n_rooms = size = floor = None\n",
    "        extra_info = []\n",
    "        for d in container_details.find_all(\"span\"):\n",
    "            d = d.get_text(strip=True).lower()\n",
    "            if \"hab\" in d:\n",
    "                n_rooms = d.split(' ')[0]\n",
    "            elif \"m²\" in d:\n",
    "                size = d.split(' ')[0]\n",
    "            elif \"planta\" in d:\n",
    "                floor = d.split(' ')[0]\n",
    "            else:\n",
    "                extra_info.append(d)\n",
    "\n",
    "        description = item.find(\"div\", {'class':'item-description'}).get_text(strip=True)\n",
    "        # remove special chars\n",
    "        description = re.sub('[^A-Za-z0-9]+', ' ', description)\n",
    "\n",
    "        new_row = pd.DataFrame({'id':id, 'title':title, 'price':price, 'price_form':price_form, 'n_rooms':n_rooms, 'size':size, 'floor':floor, 'description':description, 'extra_info':extra_info, 'image':img, 'img_no':img_no})\n",
    "        \n",
    "        return new_row"
   ]
  },
  {
   "cell_type": "code",
   "execution_count": 9,
   "metadata": {},
   "outputs": [],
   "source": [
    "def scrap_file(data_folder):\n",
    "    columns = [\"id\", \"title\", \"n_rooms\", \"size\", \"description\", \"extra_info\", \"image\", \"img_no\", \"price\", \"price_form\"]\n",
    "    data = pd.DataFrame(columns=columns)\n",
    "\n",
    "    for filename in os.listdir(data_folder):\n",
    "        soup = generate_soup(os.path.join(data_folder, filename))\n",
    "\n",
    "        for item in soup.find_all(\"article\", {'class':'item'}):\n",
    "\n",
    "            # check if it has an image\n",
    "            try:\n",
    "                img = item.find(\"div\", {'class':'item-gallery'}).find(\"img\")['src']\n",
    "                img = img.split('/')[-1]\n",
    "                img_no = item.find(\"picture\").find_all(\"span\")\n",
    "                img_no = max([int(i.get_text(strip=True)) for i in img_no if i.get_text(strip=True).isdigit()])\n",
    "            except:\n",
    "                img = None\n",
    "                img_no = 0\n",
    "\n",
    "            container_info = item.find(\"div\", {'class':'item-info-container--features'})\n",
    "\n",
    "            title = container_info.find(\"a\", {\"role\":\"heading\"}).get_text(strip=True)\n",
    "\n",
    "            id = container_info.find(\"a\", {\"role\":\"heading\"})[\"href\"].split('/')[-2]\n",
    "\n",
    "            price = container_info.find(\"div\", {'class':'price-row'})\n",
    "            price = container_info.find(\"span\", {'class':'item-price'}).get_text(strip=True)\n",
    "            price_form = price.split('/')[-1]\n",
    "            price = price.split('/')[0].replace('€', '')\n",
    "            parking = True\n",
    "            try:\n",
    "                container_info.find(\"span\", {'class':'item-parking'}).get_text(strip=True)\n",
    "            except:\n",
    "                parking = False\n",
    "            container_details = container_info.find(\"div\", {'class':'item-detail-char'})\n",
    "            n_rooms = size = None\n",
    "            extra_info = \"\"\n",
    "            for d in container_details.find_all(\"span\"):\n",
    "                d = d.get_text(strip=True).lower()\n",
    "                if \"hab\" in d:\n",
    "                    n_rooms = d.split(' ')[0]\n",
    "                elif \"m²\" in d:\n",
    "                    size = d.split(' ')[0]\n",
    "                else:\n",
    "                    extra_info = (extra_info + \" \" + d)\n",
    "                    extra_info = extra_info.strip()\n",
    "\n",
    "            if parking:\n",
    "                extra_info = extra_info + \" parking\"\n",
    "\n",
    "            description = item.find(\"div\", {'class':'item-description'}).get_text(strip=True)\n",
    "            # remove special chars, keep only alphanumeric\n",
    "            \n",
    "            description = re.sub('[^A-Za-z0-9áéíóúÁÉÍÓÚüÜñÑ]+', ' ', description)\n",
    "\n",
    "            new_row = pd.Series([id, title, n_rooms, size, description, extra_info, img, img_no, price, price_form], index=columns)\n",
    "            data.loc[len(data)] = new_row\n",
    "            \n",
    "    return data"
   ]
  },
  {
   "cell_type": "markdown",
   "metadata": {},
   "source": [
    "### Main code"
   ]
  },
  {
   "cell_type": "code",
   "execution_count": 10,
   "metadata": {},
   "outputs": [],
   "source": [
    "src = './data_filtered/idealista/'\n",
    "dest_folder = './data/idealista'\n",
    "os.makedirs(dest_folder, exist_ok=True)\n",
    "\n",
    "for folder in os.listdir(src)[1:]:\n",
    "    folder_path = os.path.join(src, folder)\n",
    "    data_folder = os.path.join(folder_path, 'html')\n",
    "    data = scrap_file(data_folder)\n",
    "    # save data to csv file\n",
    "    filename = 'viviendas' + '_' + folder + '.csv'\n",
    "    data.to_csv(os.path.join(dest_folder, filename), index=False)"
   ]
  }
 ],
 "metadata": {
  "kernelspec": {
   "display_name": "Python 3",
   "language": "python",
   "name": "python3"
  },
  "language_info": {
   "codemirror_mode": {
    "name": "ipython",
    "version": 3
   },
   "file_extension": ".py",
   "mimetype": "text/x-python",
   "name": "python",
   "nbconvert_exporter": "python",
   "pygments_lexer": "ipython3",
   "version": "3.11.4"
  },
  "orig_nbformat": 4
 },
 "nbformat": 4,
 "nbformat_minor": 2
}
