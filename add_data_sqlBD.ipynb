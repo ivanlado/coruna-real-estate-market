{
 "cells": [
  {
   "cell_type": "code",
   "execution_count": 1,
   "metadata": {},
   "outputs": [],
   "source": [
    "import psycopg2\n",
    "from psycopg2 import Error\n",
    "import os\n",
    "import sys\n",
    "import pandas as pd\n",
    "import numpy as np\n",
    "import datetime"
   ]
  },
  {
   "cell_type": "markdown",
   "metadata": {},
   "source": [
    "### Auxiliar functions"
   ]
  },
  {
   "cell_type": "code",
   "execution_count": 2,
   "metadata": {},
   "outputs": [],
   "source": [
    "def get_cols_dict(df):\n",
    "    cols = df.columns\n",
    "    cols_dict = {}\n",
    "    for i, col in enumerate(cols):\n",
    "        cols_dict[col] = i\n",
    "    return cols_dict"
   ]
  },
  {
   "cell_type": "code",
   "execution_count": 5,
   "metadata": {},
   "outputs": [],
   "source": [
    "def modificar_fin_vivienda(df, cols):\n",
    "    ids = set(df[:,0])\n",
    "    query = 'select id from registro where fin_fecha is null'\n",
    "    try:\n",
    "        cursor.execute(query)\n",
    "        result = cursor.fetchall()\n",
    "        ids_bd = set([x[0] for x in result])\n",
    "        ids_modificar = ids_bd-ids\n",
    "        for id in ids_modificar:\n",
    "            query = 'update registro set fin_fecha = %s where id = %s'\n",
    "            cursor.execute(query, (datetime.datetime.now(), id))\n",
    "    except Exception as e:\n",
    "        n_errors += 1"
   ]
  },
  {
   "cell_type": "code",
   "execution_count": 18,
   "metadata": {},
   "outputs": [],
   "source": [
    "def insertar_bd(file, src_folder):\n",
    "    n_errors = 0\n",
    "    df = pd.read_csv(os.path.join(src_folder, file))\n",
    "    df = df.replace(np.nan, None, regex=True)\n",
    "    cols = get_cols_dict(df)\n",
    "    df = df.to_numpy()\n",
    "\n",
    "    for i in range(len(df)):\n",
    "        row = df[i]\n",
    "        query = 'SELECT * FROM insert_vivienda (%s::integer,%s::text,%s::integer,%s::integer,%s::text,%s::text,%s::text,%s::integer,%s::money,%s::varchar);'\n",
    "        try:\n",
    "            cursor.execute(query, (\n",
    "            row[cols['id']],\n",
    "            row[cols['title']],\n",
    "            row[cols['n_rooms']],\n",
    "            row[cols['size']],\n",
    "            row[cols['description']],\n",
    "            row[cols['extra_info']],\n",
    "            row[cols['image']],\n",
    "            row[cols['img_no']],\n",
    "            row[cols['price']],\n",
    "            row[cols['price_form']]\n",
    "            ))\n",
    "            result = cursor.fetchone()\n",
    "        except Exception as e:\n",
    "            n_errors += 1\n",
    "    print(n_errors, 'errors')\n",
    "    modificar_fin_vivienda(df, cols)"
   ]
  },
  {
   "cell_type": "markdown",
   "metadata": {},
   "source": [
    "### Main code"
   ]
  },
  {
   "cell_type": "markdown",
   "metadata": {},
   "source": [
    "Open conection"
   ]
  },
  {
   "cell_type": "code",
   "execution_count": 3,
   "metadata": {},
   "outputs": [],
   "source": [
    "try:\n",
    "    connection = psycopg2.connect(\n",
    "        user=\"postgres\",\n",
    "        password=\"1111\",\n",
    "        host=\"localhost\",\n",
    "        port=\"5432\",\n",
    "        database=\"corunaRealEstateMarket\"\n",
    "    )\n",
    "    connection.autocommit = True\n",
    "    cursor = connection.cursor()\n",
    "\n",
    "except (Exception, Error) as error:\n",
    "    print(\"Error while connecting to PostgreSQL\", error)"
   ]
  },
  {
   "cell_type": "markdown",
   "metadata": {},
   "source": [
    "Insert data"
   ]
  },
  {
   "cell_type": "code",
   "execution_count": 24,
   "metadata": {},
   "outputs": [
    {
     "name": "stdout",
     "output_type": "stream",
     "text": [
      "0 errors\n"
     ]
    }
   ],
   "source": [
    "src_folder = './data/idealista/'\n",
    "\n",
    "n_errors = 0\n",
    "\n",
    "file = 'viviendas_20230811-1133.csv'\n",
    "insertar_bd(file, src_folder)"
   ]
  },
  {
   "cell_type": "code",
   "execution_count": 25,
   "metadata": {},
   "outputs": [
    {
     "name": "stdout",
     "output_type": "stream",
     "text": [
      "0 errors\n"
     ]
    }
   ],
   "source": [
    "file = 'viviendas_20230818-1645.csv'\n",
    "insertar_bd(file, src_folder)"
   ]
  },
  {
   "cell_type": "markdown",
   "metadata": {},
   "source": [
    "Close connection"
   ]
  },
  {
   "cell_type": "code",
   "execution_count": 18,
   "metadata": {},
   "outputs": [],
   "source": [
    "connection.close()"
   ]
  }
 ],
 "metadata": {
  "kernelspec": {
   "display_name": "Python 3",
   "language": "python",
   "name": "python3"
  },
  "language_info": {
   "codemirror_mode": {
    "name": "ipython",
    "version": 3
   },
   "file_extension": ".py",
   "mimetype": "text/x-python",
   "name": "python",
   "nbconvert_exporter": "python",
   "pygments_lexer": "ipython3",
   "version": "3.11.4"
  },
  "orig_nbformat": 4
 },
 "nbformat": 4,
 "nbformat_minor": 2
}
