{
 "cells": [
  {
   "cell_type": "code",
   "execution_count": 1,
   "metadata": {},
   "outputs": [],
   "source": [
    "import psycopg2\n",
    "from psycopg2 import Error\n",
    "import os\n",
    "import sys\n",
    "import pandas as pd\n",
    "import numpy as np\n",
    "import datetime"
   ]
  },
  {
   "cell_type": "markdown",
   "metadata": {},
   "source": [
    "### Auxiliar functions"
   ]
  },
  {
   "cell_type": "code",
   "execution_count": 2,
   "metadata": {},
   "outputs": [],
   "source": [
    "def get_cols_dict(df):\n",
    "    cols = df.columns\n",
    "    cols_dict = {}\n",
    "    for i, col in enumerate(cols):\n",
    "        cols_dict[col] = i\n",
    "    return cols_dict"
   ]
  },
  {
   "cell_type": "code",
   "execution_count": 3,
   "metadata": {},
   "outputs": [],
   "source": [
    "def modificar_fin_vivienda(df, cols):\n",
    "    ids = set(df[:,0])\n",
    "    query = 'select id from registro where fin_fecha is null'\n",
    "    try:\n",
    "        cursor.execute(query)\n",
    "        result = cursor.fetchall()\n",
    "        ids_bd = set([x[0] for x in result])\n",
    "        ids_modificar = ids_bd-ids\n",
    "        for id in ids_modificar:\n",
    "            query = 'update registro set fin_fecha = %s where id = %s'\n",
    "            cursor.execute(query, (datetime.datetime.now(), id))\n",
    "    except Exception as e:\n",
    "        n_errors += 1"
   ]
  },
  {
   "cell_type": "code",
   "execution_count": 4,
   "metadata": {},
   "outputs": [],
   "source": [
    "def insertar_bd(file, src_folder):\n",
    "    n_errors = 0\n",
    "    df = pd.read_csv(os.path.join(src_folder, file))\n",
    "    df = df.replace(np.nan, None, regex=True)\n",
    "    cols = get_cols_dict(df)\n",
    "    df = df.to_numpy()\n",
    "\n",
    "    for i in range(len(df)):\n",
    "        row = df[i]\n",
    "        query = 'SELECT * FROM insert_vivienda (%s::integer,%s::text,%s::integer,%s::integer,%s::text,%s::text,%s::text,%s::integer,%s::money,%s::varchar);'\n",
    "        try:\n",
    "            cursor.execute(query, (\n",
    "            row[cols['id']],\n",
    "            row[cols['title']],\n",
    "            row[cols['n_rooms']],\n",
    "            row[cols['size']],\n",
    "            row[cols['description']],\n",
    "            row[cols['extra_info']],\n",
    "            row[cols['image']],\n",
    "            row[cols['img_no']],\n",
    "            row[cols['price']],\n",
    "            row[cols['price_form']]\n",
    "            ))\n",
    "            result = cursor.fetchone()\n",
    "        except Exception as e:\n",
    "            n_errors += 1\n",
    "    print(n_errors, 'errors')\n",
    "    modificar_fin_vivienda(df, cols)"
   ]
  },
  {
   "cell_type": "markdown",
   "metadata": {},
   "source": [
    "### Main code"
   ]
  },
  {
   "cell_type": "markdown",
   "metadata": {},
   "source": [
    "Open conection"
   ]
  },
  {
   "cell_type": "code",
   "execution_count": 5,
   "metadata": {},
   "outputs": [],
   "source": [
    "try:\n",
    "    connection = psycopg2.connect(\n",
    "        user=\"postgres\",\n",
    "        password=\"1111\",\n",
    "        host=\"localhost\",\n",
    "        port=\"5432\",\n",
    "        database=\"corunaRealEstateMarket\"\n",
    "    )\n",
    "    connection.autocommit = True\n",
    "    cursor = connection.cursor()\n",
    "\n",
    "except (Exception, Error) as error:\n",
    "    print(\"Error while connecting to PostgreSQL\", error)"
   ]
  },
  {
   "cell_type": "markdown",
   "metadata": {},
   "source": [
    "### Insert data"
   ]
  },
  {
   "cell_type": "code",
   "execution_count": 6,
   "metadata": {},
   "outputs": [],
   "source": [
    "src_folder = './data/idealista/'"
   ]
  },
  {
   "cell_type": "code",
   "execution_count": 7,
   "metadata": {},
   "outputs": [
    {
     "name": "stdout",
     "output_type": "stream",
     "text": [
      "0 errors\n"
     ]
    }
   ],
   "source": [
    "for file in os.listdir(src_folder)[5:]:\n",
    "    insertar_bd(file, src_folder)"
   ]
  },
  {
   "cell_type": "markdown",
   "metadata": {},
   "source": [
    "### Set municipios to data (this information must be found in 'title' field)"
   ]
  },
  {
   "cell_type": "code",
   "execution_count": 8,
   "metadata": {},
   "outputs": [],
   "source": [
    "municipios = pd.read_csv('./data/ayuntamientos/municipios.csv')\n",
    "municipios = municipios[\"Municipio\"].values.tolist()\n",
    "# to lower case\n",
    "municipios = [x.lower() for x in municipios]"
   ]
  },
  {
   "cell_type": "markdown",
   "metadata": {},
   "source": [
    "Check that from all house the municipio can be extracted"
   ]
  },
  {
   "cell_type": "code",
   "execution_count": 9,
   "metadata": {},
   "outputs": [
    {
     "name": "stdout",
     "output_type": "stream",
     "text": [
      "Cantidad de viviendas sin municipio:  0\n"
     ]
    }
   ],
   "source": [
    "count_sin_municipio = 0\n",
    "for file in os.listdir(src_folder)[5:]:\n",
    "    df = pd.read_csv(src_folder + file, usecols = ['id', 'title'])\n",
    "    for row in df.itertuples():\n",
    "        id = row[1]\n",
    "        title = row[2].lower()\n",
    "        municipio = None\n",
    "        for mun in municipios:\n",
    "            if mun in title:\n",
    "                municipio = mun\n",
    "                break\n",
    "        if municipio == None:\n",
    "            count_sin_municipio+=1\n",
    "\n",
    "print('Cantidad de viviendas sin municipio: ', count_sin_municipio)"
   ]
  },
  {
   "cell_type": "markdown",
   "metadata": {},
   "source": [
    "### Update municipio"
   ]
  },
  {
   "cell_type": "code",
   "execution_count": 10,
   "metadata": {},
   "outputs": [],
   "source": [
    "query = 'update viviendas set municipio = %s where id = %s'\n",
    "\n",
    "for file in os.listdir(src_folder)[5:]:\n",
    "    df = pd.read_csv(src_folder + file, usecols = ['id', 'title'])\n",
    "    for row in df.itertuples():\n",
    "        id = row[1]\n",
    "        title = row[2].lower()\n",
    "        municipio = None\n",
    "        for mun in municipios:\n",
    "            if mun in title:\n",
    "                municipio = mun\n",
    "                break\n",
    "        cursor.execute(query, (municipio, id))"
   ]
  },
  {
   "cell_type": "markdown",
   "metadata": {},
   "source": [
    "Close connection"
   ]
  },
  {
   "cell_type": "code",
   "execution_count": 11,
   "metadata": {},
   "outputs": [],
   "source": [
    "connection.close()"
   ]
  }
 ],
 "metadata": {
  "kernelspec": {
   "display_name": "Python 3",
   "language": "python",
   "name": "python3"
  },
  "language_info": {
   "codemirror_mode": {
    "name": "ipython",
    "version": 3
   },
   "file_extension": ".py",
   "mimetype": "text/x-python",
   "name": "python",
   "nbconvert_exporter": "python",
   "pygments_lexer": "ipython3",
   "version": "3.11.4"
  },
  "orig_nbformat": 4
 },
 "nbformat": 4,
 "nbformat_minor": 2
}
