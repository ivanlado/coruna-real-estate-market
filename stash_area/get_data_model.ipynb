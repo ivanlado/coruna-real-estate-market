{
 "cells": [
  {
   "cell_type": "code",
   "execution_count": 26,
   "metadata": {},
   "outputs": [],
   "source": [
    "import pandas as pd\n",
    "from bd import *\n",
    "from get_data import *\n",
    "import matplotlib.pyplot as plt"
   ]
  },
  {
   "cell_type": "code",
   "execution_count": 4,
   "metadata": {},
   "outputs": [
    {
     "name": "stdout",
     "output_type": "stream",
     "text": [
      "Database object created\n"
     ]
    },
    {
     "name": "stderr",
     "output_type": "stream",
     "text": [
      "c:\\Users\\ivan\\Desktop\\Coding\\corunaRealEstateMarket\\bd.py:46: UserWarning: pandas only supports SQLAlchemy connectable (engine/connection) or database string URI or sqlite3 DBAPI2 connection. Other DBAPI2 objects are not tested. Please consider using SQLAlchemy.\n",
      "  df = pd.read_sql_query(query, self.connection)\n"
     ]
    }
   ],
   "source": [
    "data = get_data_model_v1()\n",
    "\n",
    "data_municipios, municipios_list = get_data_municipios()"
   ]
  },
  {
   "cell_type": "code",
   "execution_count": 29,
   "metadata": {},
   "outputs": [],
   "source": [
    "i=10"
   ]
  },
  {
   "cell_type": "code",
   "execution_count": 43,
   "metadata": {},
   "outputs": [
    {
     "name": "stdout",
     "output_type": "stream",
     "text": [
      "3500.0 alquiler vacacional de casa solo a 500 m del centro de santa cruz con jardin de 600 m2 distribuida planta baja salon cocina habitacion y baño 1 planta 4 habitaciones y 2 baños bajo cubierta 2 habitaciones aseo \n",
      "3600.0 alquiler de temporada esplendida propiedad a pocos kilometros de la coruña situada en el singular y exclusivo entorno de punta canide mera a pocos metros de una idilica playa poco frecuentada lo que le confiere un caracter casi privado en la propiedad hay tres construcciones una vivienda uni\n",
      "3000.0 alquiler de temporada esplendida propiedad a pocos kilometros de la coruña situada en el singular y exclusivo entorno de punta canide mera a pocos metros de una idilica playa poco frecuentada lo que le confiere un caracter casi privado en la propiedad hay tres construcciones una vivienda uni\n",
      "2500.0 alquiler vacacional de hermoso chalet pareado seminuevo en urbanizacion canide con piscina y cancha de paddel situacion inmejorable a solo 200 m de la vivienda paseos y playas de la zona a 20 minutos de la coruña la casa consta de gran salon con salida a jardin cocina 1 habitacion en planta baja\n",
      "2200.0 posee tres habitaciones dobles y una habitacion con sofa cama cuatro baños zona spa con sauna yacuzzi y ducha hidromasaje conexiones directas al centro en autobus 20 minutos tres kilometros andando playas cercanas playa de oza y conexion perfecta para salir de la cuidad el parque de eiri\n",
      "2400.0 totalmente nuevo sin estrenar a 200 m de la playa parque infantil en frente muy buena zona y tranquila solo agosto \n",
      "2500.0 se alquila piso recien reformado en zona centrica y con mucho gusto el piso tiene orientacion sur por lo que es realmente calido en los meses mas frios ademas esto se apoya en un buen ventanal muebles de diseño y cocina italiana copatlife electrodomesticos smeg instalacion domotica simon10\n",
      "2200.0 alquiler temporada verano casa planta baja 68 m2 utiles 2 dormitorios baño cocina independiente y equipada salon comedor chimenea armarios empotrados ventanas doble cristal parcela 800 m2 con cierre arboles frutales y huerta a pocos minutos de paseo maritimo y playa quincenas 1 200 c\n",
      "2300.0 atico en alquiler con altos estandares de calidad y diseño en a coruña la vivienda tiene una superficie de 289 m2 cuenta con 4 dormitorios 3 baños y un trastero el estado de la propiedad se encuentra en optimas condiciones y esta disponible para alquiler por 2 300 al entrar en la planta baja\n",
      "2800.0 rentaloo alquila este chalet de ensueño en gandario un paraiso relajante para el descanso en el que podra disfrutar de unas vistas unicas de la ria de sada la propiedad se eleva sobre unos pilares pareciendo elevarse y con dos zonas de jardin muy bien cuidadas una de ellas con zona de solarium \n",
      "3500.0 chalet a estrenar en urbanizacion el paraiso vivienda ubicada en un enclave unico vistas a la ria do burgo acceso al paseo y un entorno rodeado de espacios verdes y naturales al mismo tiempo que estamos a un paso de la ciudad la urbanizacion dispone de dos piscinas gimnasio pista de padel y sa\n",
      "2500.0 rias altas garantiza y protege tu alquiler ref 5333 en una urbanizacion privada en una zona privilegiada de la ciudad te ofrecemos un magnifico chalet individual planta baja no encontramos un magnifico salon de aproximadamente 40 metros tambien en esta planta tenemos otro salon que podria uti\n",
      "2400.0 exclusivo duplex en alquiler de 4 dormitorios en a coruña disponible para alquiler se encuentra este duplex de cuatro dormitorios la vivienda cuenta con amplios espacios bien iluminados y construida con altos estandares de calidad y diseño situado en la ciudad vieja el duplex se encuentra en\n",
      "2700.0 fotos orientativas entrada a partir de septiembre bajo con jardin a estrenar en urbanizacion el paraiso vivienda ubicada en un enclave unico un entorno rodeado de espacios verdes y naturales al mismo tiempo que estamos a un paso de la ciudad la urbanizacion dispone de dos piscinas gimnasio pi\n",
      "2500.0 fotos orientativas entrada a partir de septiembre vivienda con terraza a estrenar en urbanizacion paraiso ubicada en un enclave unico un entorno rodeado de espacios verdes y naturales al mismo tiempo que estamos a un paso de la ciudad la urbanizacion dispone de dos piscinas gimnasio pista de\n",
      "3500.0 rentaloo alquila para temporada en el mes de agosto esta fabulosa propiedad en la coruña ubicada en el centro a dos minutos de la plaza pontevedra y las playas de la ciudad el apartamento cuenta con todos los extras y la comunidad es muy tranquila una vivienda ideal para el descanso y con mucha\n",
      "2200.0 espectacular reforma en linares rivas piso disponible 15 desde el 15 de agosto visitas de mañana de lunes a viernes exclusiva vivienda de 190 m con una reforma integral se trata de una propiedad con vistas privilegiadas al puerto de la coruña y una excelente ubicacion en una de las calles mas d\n",
      "2500.0 piso clasico con excelentes vistas en plaza de ourense fantastico piso de cinco dormitorios en plena plaza de orense en el corazon de la coruña ubicado en un edificio con todas las comodidades como servicio de porteria plaza de garaje o calefaccion central la vivienda cuenta con unas de las vis\n",
      "4500.0 chalet en la nueva urbanizacion paraiso se trata de una exclusiva propiedad en un entorno unico rodeado de naturaleza esta excelente vivienda dispone de los mejores materiales de construccion una ubicacion con impresionantes vistas a la ria del burgo en un enclave rodeado de naturaleza donde s\n",
      "2200.0 piso de 120m en juan florez 21 de altura con terraza y vistas perimetrales a la ciudad muy luminoso con orientacion este sur 3 amplios dormitorios cocina integrada al saon con salida a terraza 2 baños completos armarios empotrados en los dormitorios y en zona de entrada carpinteria lacada en\n",
      "2860.0 excelente vivienda con dos terrazas en la plaza de orense se trata de un piso de tipologia duplex con vistas panoramicas a la bahia de la ciudad tiene una superficie util de 350m distribuidos de la siguiente manera la planta baja consta de amplio salon con salida a la terraza principal del inmue\n",
      "2100.0 inmoriver j d les presenta en alquiler estas viviendas de exclusivo diseño y funcionalidad en una ubicacion privilegiada en la zona de oleiros se encuentra situado en una de las zonas mas exclusivas de oleiros a 7 minutos del centro de coruña rodeado de zonas verdes excelentes vistas y un e\n",
      "5000.0 alquiler de temporada a 500 metros de la playa de mera y rodeada de naturaleza nos encontramos esta preciosa casa tradicional de piedra completamente rehabilitada en 2 019 con un amplio y soleado jardin dispone de cuatro dormitorios dobles y un amplio dormitorio en la planta bajo cubierta con sei\n",
      "4500.0 rf 7525 espectacular chalet a estrenar en oleiros impresionante chalet individual en urbanizacion el paraiso el complejo cuenta con vistas a la ria rodeada de naturaleza con piscinas comunitarias pistas de padel gimnasio sala gourmet y jardin privado exclusiva urbanizacion de reciente cons\n",
      "3900.0 te presentamos esta villa situada a 500m de cambre y a 15 minutos de coruña distribuida en 2 plantas y un sotano con un total de 544m2 construidos una parcela de 4 179m2 y con piscina privada en la planta de entrada nos encontramos con un bonito recibidor y un despacho muy amplio ideal para tele\n",
      "2900.0 magnifico piso en la mejor zona de ciudad tanto por ubicacion vistas y tranquilidad cuenta con 170m2 distribuidos en un amplio salon con vistas a la marina 3 dormitorios todos ellos con baño en la propia habitacion el dormitorio principal cuenta a su vez con zona de vestidor y es muy amplia est\n",
      "3500.0  descripcion del chalet precioso chalet independiente de 354 m2 construidos en una de las urbanizaciones mas exclusivas y deseadas para vivir de coruña urbanizacion icaria la parcela tiene un total de 485 m2 tiene un jardin privado exclusivo de la propiedad de 379 m2 con cesped natural riego a\n"
     ]
    }
   ],
   "source": [
    "for i in range(len(data[data['precio']>2000])):\n",
    "    texto = data[data['precio']>2000]['descripcion'].iloc[i]\n",
    "    precio = data[data['precio']>2000]['precio'].iloc[i]\n",
    "    print(precio, texto)"
   ]
  },
  {
   "cell_type": "code",
   "execution_count": 39,
   "metadata": {},
   "outputs": [
    {
     "name": "stdout",
     "output_type": "stream",
     "text": [
      "estudiantes 107 metros cuadrados en la zona de matogrande piso de excelentes calidades al acceder al piso nos encontramos con un distribuidor desde el que podemos acceder por un lado a la cocina la cual esta totalmente amueblada y equipada con placa vitroceramica lavadora horno nevera comb\n"
     ]
    }
   ],
   "source": [
    "texto = data.loc[i+1, 'descripcion']\n",
    "print(texto)\n",
    "i+=1"
   ]
  },
  {
   "cell_type": "code",
   "execution_count": 48,
   "metadata": {},
   "outputs": [
    {
     "name": "stdout",
     "output_type": "stream",
     "text": [
      "lujo 10\n",
      "urbanizacion 30\n",
      "reformado 116\n",
      "ubicacion_excepcional 3\n",
      "duplex 32\n",
      "atico 35\n",
      "villa 6\n",
      "climalit 12\n",
      "aire_acondicionado 0\n"
     ]
    }
   ],
   "source": [
    "data['piscina'] = data['descripcion'].str.contains('piscina')\n",
    "data['parking'] = data['extra_info'].str.contains('piscina') | data['descripcion'].str.contains('plaza de garaje') | data['descripcion'].str.contains('plaza garaje')\n",
    "data['estudiantes'] = data['descripcion'].str.contains('estudiante') | data['descripcion'].str.contains('escolar')\n",
    "data['playa'] = data['descripcion'].str.contains('playa')\n",
    "data['balcon'] =  data['descripcion'].str.contains('balcon') | data['descripcion'].str.contains('terraza')\n",
    "data['trastero'] = data['descripcion'].str.contains('trastero')\n",
    "data['vacacional'] = data['descripcion'].str.contains('vacacion')\n",
    "data['vistas'] = data['descripcion'].str.contains('vistas')\n",
    "data['sin_ascensor'] = data['descripcion'].str.contains('sin ascensor') | data['extra_info'].str.contains('sin ascensor')\n",
    "data['profesores'] = data['descripcion'].str.contains('profesor')\n",
    "data['amueblado'] = data['descripcion'].str.contains('amueblad')\n",
    "data['es_casa'] = data['titulo'].apply(lambda x : 1.0 if(x.lower().startswith('casa') or x.lower().startswith('chalet')) else 0.0)\n",
    "data['lujo'] = data['descripcion'].str.contains('lujo') | data['titulo'].str.contains('lujo')\n",
    "data['urbanizacion'] = data['descripcion'].str.contains('urbanizacion') | data['titulo'].str.contains('urbanizacion')\n",
    "data['reformado'] = data['descripcion'].str.contains('reformado') | data['titulo'].str.contains('reformado')\n",
    "data['ubicacion_excepcional'] = data['descripcion'].str.contains('ubicacion excepcional') | data['descripcion'].str.contains('buena situacion')\n",
    "data['duplex'] = data['descripcion'].str.contains('duplex') | data['titulo'].str.contains('duplex')\n",
    "data['atico'] = data['descripcion'].str.contains('atico') | data['titulo'].str.contains('atico') | data['descripcion'].str.contains('ático') | data['titulo'].str.contains('ático')\n",
    "data['villa'] = data['descripcion'].str.contains('villa') | data['titulo'].str.contains('villa')\n",
    "data['climalit'] = data['descripcion'].str.contains('climalit')\n",
    "data['aire_acondicionado'] = data['descripcion'].str.contains('aire acondicionado')\n",
    "data['sin muebles'] = data['descripcion'].str.contains('sin muebles') | data['descripcion'].str.contains('sin amueblar')\n",
    "data['electrico'] = data['descripcion'].str.contains('electrico')\n",
    "data['transporte'] = data['descripcion'].str.contains('estacion') | data['descripcion'].str.contains('parada')\n",
    "data['gastos_incluidos'] = data['descripcion'].str.contains('gastos') & data['descripcion'].str.contains('incluidos')\n",
    "data['estrenar'] = data['descripcion'].str.contains('estrenar') | data['titulo'].str.contains('estrenar')\n",
    "data['comunidad_incluida'] = data['descripcion'].str.contains('comunidad') & data['descripcion'].str.contains('incluida')\n",
    "palabras_bonitas = ['fantastico', 'increible', 'bonito']\n",
    "data['soleado'] = data['descripcion'].str.contains('soleado') | data['descripcion'].str.contains('luminoso')\n",
    "data['paseo_maritimo'] = data['descripcion'].str.contains('paseo maritimo')\n",
    "data['equipado'] = data['descripcion'].str.contains('equipad')\n",
    "data['spa'] = data['descripcion'].str.contains('spa') | data['descripcion'].str.contains('jacuzzi')\n",
    "data['jardin'] = data['descripcion'].str.contains('jardin')\n",
    "data['exclusivo'] = data['descripcion'].str.contains('exclusiv')\n",
    "data['spa'] = data['descripcion'].str.contains('spa') | data['descripcion'].str.contains('jacuzzi')\n",
    "data['es_chalet'] = data['titulo'].str.contains('chalet') | data['descripcion'].str.contains('chalet')\n",
    "data['de_diseño'] = data['descripcion'].str.contains('de diseño')\n",
    "data['padel'] = data['descripcion'].str.contains('padel')\n",
    "data['gym'] = data['descripcion'].str.contains('gym')\n",
    "\n",
    "print('lujo', sum(data['lujo']==True))\n",
    "print('urbanizacion', sum(data['urbanizacion']==True))\n",
    "print('reformado', sum(data['reformado']==True))\n",
    "print('ubicacion_excepcional', sum(data['ubicacion_excepcional']==True))\n",
    "print('duplex', sum(data['duplex']==True))\n",
    "print('atico', sum(data['atico']==True))\n",
    "print('villa', sum(data['villa']==True))\n",
    "print('climalit', sum(data['climalit']==True))\n",
    "print('aire_acondicionado', sum(data['aire_acondicionado']==True))  \n",
    "# print('sin muebles', sum(data['sin muebles']==True))\n",
    "# print('electrico', sum(data['electrico']==True))\n",
    "# print('transporte', sum(data['transporte']==True))\n",
    "# print('gastos_incluidos', sum(data['gastos_incluidos']==True))\n",
    "# print('estrenar', sum(data['estrenar']==True))\n",
    "# print('piscina', sum(data['piscina']==True))\n",
    "# print('parking', sum(data['parking']==True))\n",
    "# print('estudiantes', sum(data['estudiantes']==True))\n",
    "# print('playa', sum(data['playa']==True))\n",
    "# print('balcon', sum(data['balcon']==True))\n",
    "# print('trastero', sum(data['trastero']==True))\n",
    "# print('vacacional', sum(data['vacacional']==True))\n",
    "# print('vistas', sum(data['vistas']==True))\n",
    "# print('sin_ascensor', sum(data['sin_ascensor']==True))\n",
    "# print('profesores', sum(data['profesores']==True))\n",
    "# print('amueblado', sum(data['amueblado']==True))\n",
    "# print('es_casa', sum(data['es_casa']==True))\n",
    "# print('comunidad_incluida', sum(data['comunidad_incluida']==True))\n",
    "# print('soleado', sum(data['soleado']==True))\n",
    "# print('paseo_maritimo', sum(data['paseo_maritimo']==True))\n",
    "# print('equipado', sum(data['equipado']==True))\n",
    "# print('spa', sum(data['spa']==True))\n",
    "# print('jardin', sum(data['jardin']==True))\n",
    "# print('exclusivo', sum(data['exclusivo']==True))\n",
    "# print('spa', sum(data['spa']==True))\n",
    "# print('es_chalet', sum(data['es_chalet']==True))\n",
    "# print('de_diseño', sum(data['de_diseño']==True))\n",
    "# print('padel', sum(data['padel']==True))\n",
    "# print('gym', sum(data['gym']==True))"
   ]
  },
  {
   "cell_type": "code",
   "execution_count": 61,
   "metadata": {},
   "outputs": [
    {
     "data": {
      "image/png": "[encoded data removed]",
      "text/plain": [
       "<Figure size 1000x600 with 1 Axes>"
      ]
     },
     "metadata": {},
     "output_type": "display_data"
    }
   ],
   "source": [
    "plt.figure(figsize=(10, 6))\n",
    "plt.hist(data_plot, bins=100, color='skyblue', edgecolor='black')  # Adjust bins as needed\n",
    "plt.title('Distribution of Puntuacion')\n",
    "plt.xlabel('Puntuacion')\n",
    "plt.ylabel('Frequency')\n",
    "plt.grid(True)\n",
    "plt.show()"
   ]
  },
  {
   "cell_type": "markdown",
   "metadata": {},
   "source": [
    "### Zonas v2"
   ]
  },
  {
   "cell_type": "code",
   "execution_count": 91,
   "metadata": {},
   "outputs": [],
   "source": [
    "def normalize_str(x):\n",
    "    if x is not None:\n",
    "        x = x.lower()\n",
    "        x = x.replace('á', 'a')\n",
    "        x = x.replace('é', 'e')\n",
    "        x = x.replace('í', 'i')\n",
    "        x = x.replace('ó', 'o')\n",
    "        x = x.replace('ú', 'u')\n",
    "    return x\n",
    "\n",
    "co_1 = ['Monte Alto - Zalaeta - Atocha']\n",
    "co_2 = ['Ciudad Vieja - Centro']\n",
    "co_3 = ['Ensanche - Juan Florez']\n",
    "co_4 = ['Riazor - Los Rosales']\n",
    "co_5 = ['Agra del Orzán - Ventorrillo', 'Vioño']\n",
    "co_6 = ['Os Mallos', 'Sagrada Familia']\n",
    "co_7 = ['Cuatro Caminos - Plaza de la Cubela']\n",
    "co_8 = ['Falperra-Santa Lucía']\n",
    "co_9 = ['Paseo de los Puentes-Santa Margarita']\n",
    "co_10 = ['Someso - Matogrande', 'Eirís']\n",
    "co_11 = ['Mesoiro']\n",
    "co_12 = ['Los Castros - Castrillón']\n",
    "co = [co_1, co_2, co_3, co_4, co_5, co_6, co_7, co_8, co_9, co_10, co_11, co_12]\n",
    "\n",
    "ol_1 = ['Nós', 'Dexo-Lorbé', 'Dorneda', 'Mera-Serantes', 'Liáns', 'Iñás']\n",
    "ol_2 = ['Maianca']\n",
    "ol_3 = ['Perillo']\n",
    "ol = [ol_1, ol_2, ol_3]\n",
    "\n",
    "zonas_seleccionadas = {'a coruña': co, 'oleiros': ol}\n",
    "normalized_zonas = {}\n",
    "for key, sublist in zonas_seleccionadas.items():\n",
    "    normalized_sublist = []\n",
    "    for subsublist in sublist:\n",
    "        normalized_items = [normalize_str(item) for item in subsublist]\n",
    "        normalized_sublist.append(normalized_items)\n",
    "    normalized_zonas[key] = normalized_sublist\n",
    "zonas_seleccionadas = normalized_zonas"
   ]
  },
  {
   "cell_type": "code",
   "execution_count": 94,
   "metadata": {},
   "outputs": [
    {
     "data": {
      "text/plain": [
       "0                                  maianca\n",
       "1      cuatro caminos - plaza de la cubela\n",
       "2      cuatro caminos - plaza de la cubela\n",
       "3            monte alto - zalaeta - atocha\n",
       "4                 los castros - castrillon\n",
       "                      ...                 \n",
       "719                                   sada\n",
       "720                   riazor - los rosales\n",
       "721                   riazor - los rosales\n",
       "722                              os mallos\n",
       "723          monte alto - zalaeta - atocha\n",
       "Length: 724, dtype: object"
      ]
     },
     "execution_count": 94,
     "metadata": {},
     "output_type": "execute_result"
    }
   ],
   "source": [
    "def get_zona_v2(x):\n",
    "    zona = x['zona']\n",
    "    municipio = x['municipio']\n",
    "    if municipio in zonas_seleccionadas.keys():\n",
    "        for zonas in zonas_seleccionadas[municipio]:\n",
    "            if zona in zonas:\n",
    "                return zonas[0]\n",
    "    else:\n",
    "        return municipio\n",
    "\n",
    "data.apply(get_zona_v2, axis=1)"
   ]
  }
 ],
 "metadata": {
  "kernelspec": {
   "display_name": "Python 3",
   "language": "python",
   "name": "python3"
  },
  "language_info": {
   "codemirror_mode": {
    "name": "ipython",
    "version": 3
   },
   "file_extension": ".py",
   "mimetype": "text/x-python",
   "name": "python",
   "nbconvert_exporter": "python",
   "pygments_lexer": "ipython3",
   "version": "3.11.4"
  },
  "orig_nbformat": 4
 },
 "nbformat": 4,
 "nbformat_minor": 2
}
