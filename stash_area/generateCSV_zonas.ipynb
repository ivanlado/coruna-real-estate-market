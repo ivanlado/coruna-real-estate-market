{
 "cells": [
  {
   "cell_type": "code",
   "execution_count": 1,
   "metadata": {},
   "outputs": [],
   "source": [
    "import pandas as pd\n",
    "import numpy as np\n",
    "import matplotlib.pyplot as plt\n",
    "import re\n",
    "import os\n",
    "import string\n",
    "from bs4 import BeautifulSoup"
   ]
  },
  {
   "cell_type": "markdown",
   "metadata": {},
   "source": [
    "### Auxiliar functions"
   ]
  },
  {
   "cell_type": "code",
   "execution_count": 2,
   "metadata": {},
   "outputs": [],
   "source": [
    "def generate_soup(file_path):\n",
    "    with open(file_path, 'r', encoding=\"utf-8\") as f:\n",
    "        soup = BeautifulSoup(f, 'html.parser')\n",
    "    return soup"
   ]
  },
  {
   "cell_type": "code",
   "execution_count": 3,
   "metadata": {},
   "outputs": [],
   "source": [
    "# Function for replace the last number of ocurrences of a string. This number is the argument \"occurrence\"\n",
    "def rreplace(s, old, new, occurrence):\n",
    "    li = s.rsplit(old, occurrence)\n",
    "    return new.join(li)"
   ]
  },
  {
   "cell_type": "markdown",
   "metadata": {},
   "source": [
    "### Main code"
   ]
  },
  {
   "cell_type": "markdown",
   "metadata": {},
   "source": [
    "Zones are obtained"
   ]
  },
  {
   "cell_type": "code",
   "execution_count": 4,
   "metadata": {},
   "outputs": [],
   "source": [
    "bd_folder = './data_filtered/zonas'\n",
    "filename = 'zonas.html'\n",
    "\n",
    "soup = generate_soup(os.path.join(bd_folder, filename))\n",
    "\n",
    "zones = []\n",
    "\n",
    "# get id=sublocations\n",
    "data = soup.find('ul', {'id': 'sublocations', 'class' : 'navList nav-list'})\n",
    "data = data.find_all('span', {'class': 'sublocationText'})\n",
    "for item in data:\n",
    "    zones.append(item.text.strip())"
   ]
  },
  {
   "cell_type": "code",
   "execution_count": 5,
   "metadata": {},
   "outputs": [],
   "source": [
    "aytos = pd.read_csv('./data/ayuntamientos/municipios.csv', usecols = [\"Municipio\"]).values.flatten().tolist()"
   ]
  },
  {
   "cell_type": "code",
   "execution_count": 6,
   "metadata": {},
   "outputs": [
    {
     "name": "stdout",
     "output_type": "stream",
     "text": [
      "There are 39 zones\n"
     ]
    }
   ],
   "source": [
    "zones = set(zones)-set(aytos)\n",
    "zones = list(zones)\n",
    "print(\"There are {} zones\".format(len(zones)))"
   ]
  },
  {
   "cell_type": "code",
   "execution_count": 7,
   "metadata": {},
   "outputs": [],
   "source": [
    "aux = []\n",
    "\n",
    "for ay in aytos:\n",
    "    #check if any item in zones contains ay\n",
    "    if not any(ay in s for s in zones):\n",
    "        aux.append(ay)\n",
    "        \n",
    "zones = aux+zones"
   ]
  },
  {
   "cell_type": "code",
   "execution_count": 8,
   "metadata": {},
   "outputs": [
    {
     "data": {
      "text/plain": [
       "['Cambre',\n",
       " 'Sada',\n",
       " 'Betanzos',\n",
       " 'Bergondo',\n",
       " 'Carral',\n",
       " 'Abegondo',\n",
       " 'Agra del Orzán - Ventorrillo, A Coruña',\n",
       " 'Cuatro Caminos - Plaza de la Cubela, A Coruña',\n",
       " 'Monte Alto - Zalaeta - Atocha, A Coruña',\n",
       " 'Portádego - Vilaboa Norte, Culleredo',\n",
       " 'Almeiras, Culleredo',\n",
       " 'Centro de Culleredo, Culleredo',\n",
       " 'Someso - Matogrande, A Coruña',\n",
       " 'Paseo de los Puentes-Santa Margarita, Ensanche - Juan Florez',\n",
       " 'Ensanche - Juan Florez, A Coruña',\n",
       " 'Morás-A Zapateira, Arteixo',\n",
       " 'Acea de Ama - O Burgo, Culleredo',\n",
       " 'Nós, Oleiros',\n",
       " 'Ensanche, Ensanche - Juan Florez',\n",
       " 'Dexo-Lorbé, Oleiros',\n",
       " 'Los Castros - Castrillón, A Coruña',\n",
       " 'Perillo, Oleiros',\n",
       " 'Falperra-Santa Lucía, Ensanche - Juan Florez',\n",
       " 'Mesoiro, A Coruña',\n",
       " 'Elviña - A Zapateira, A Coruña',\n",
       " 'Juan Flórez-San Pablo, Ensanche - Juan Florez',\n",
       " 'Mera-Serantes, Oleiros',\n",
       " 'Riazor - Los Rosales, A Coruña',\n",
       " 'Dorneda, Oleiros',\n",
       " 'Suevos-Pastoriza, Arteixo',\n",
       " 'Liáns, Oleiros',\n",
       " 'A Zapateira, Culleredo',\n",
       " 'Ciudad Jardín, Ensanche - Juan Florez',\n",
       " 'Os Mallos, A Coruña',\n",
       " 'Iñás, Oleiros',\n",
       " 'Sagrada Familia, A Coruña',\n",
       " 'Eirís, A Coruña',\n",
       " 'Ciudad Vieja - Centro, A Coruña',\n",
       " 'Vioño, A Coruña',\n",
       " 'Lubre (San Juan Bautista)',\n",
       " 'Maianca, Oleiros',\n",
       " 'Parroquias rurales, Culleredo',\n",
       " 'Loureda-Lañas-Barrañán, Arteixo',\n",
       " 'Vilaboa Sur, Culleredo',\n",
       " 'Oseiro, Arteixo']"
      ]
     },
     "execution_count": 8,
     "metadata": {},
     "output_type": "execute_result"
    }
   ],
   "source": [
    "zones"
   ]
  },
  {
   "cell_type": "code",
   "execution_count": 9,
   "metadata": {},
   "outputs": [
    {
     "name": "stdout",
     "output_type": "stream",
     "text": [
      "Agra del Orzán - Ventorrillo, A Coruña\n",
      "Cuatro Caminos - Plaza de la Cubela, A Coruña\n",
      "Monte Alto - Zalaeta - Atocha, A Coruña\n",
      "Portádego - Vilaboa Norte, Culleredo\n",
      "Almeiras, Culleredo\n",
      "Centro de Culleredo, Culleredo\n",
      "Someso - Matogrande, A Coruña\n",
      "Ensanche - Juan Florez, A Coruña\n",
      "Morás-A Zapateira, Arteixo\n",
      "Acea de Ama - O Burgo, Culleredo\n",
      "Nós, Oleiros\n",
      "Dexo-Lorbé, Oleiros\n",
      "Los Castros - Castrillón, A Coruña\n",
      "Perillo, Oleiros\n",
      "Mesoiro, A Coruña\n",
      "Elviña - A Zapateira, A Coruña\n",
      "Mera-Serantes, Oleiros\n",
      "Riazor - Los Rosales, A Coruña\n",
      "Dorneda, Oleiros\n",
      "Suevos-Pastoriza, Arteixo\n",
      "Liáns, Oleiros\n",
      "A Zapateira, Culleredo\n",
      "Os Mallos, A Coruña\n",
      "Iñás, Oleiros\n",
      "Sagrada Familia, A Coruña\n",
      "Eirís, A Coruña\n",
      "Ciudad Vieja - Centro, A Coruña\n",
      "Vioño, A Coruña\n",
      "Maianca, Oleiros\n",
      "Parroquias rurales, Culleredo\n",
      "Loureda-Lañas-Barrañán, Arteixo\n",
      "Vilaboa Sur, Culleredo\n",
      "Oseiro, Arteixo\n"
     ]
    }
   ],
   "source": [
    "zone_col = []\n",
    "ayto_col = []\n",
    "\n",
    "for z in zones:\n",
    "    for a in aytos:\n",
    "        if a in z:\n",
    "            if a != z:\n",
    "                print(z)\n",
    "                z = rreplace(z, a, '', 1)\n",
    "                z = z.strip().strip(string.punctuation)\n",
    "            # z = z.replace(' - ', '-')\n",
    "            zone_col.append(z)\n",
    "            ayto_col.append(a)\n",
    "            continue\n",
    "\n",
    "df_zones = pd.DataFrame({'zona': zone_col, 'municipio': ayto_col})\n",
    "\n",
    "dest_folder = './data/zonas'\n",
    "os.makedirs(dest_folder, exist_ok=True)\n",
    "# save data to csv file\n",
    "df_zones.to_csv(os.path.join(dest_folder, \"zonas.csv\"), index=False)"
   ]
  }
 ],
 "metadata": {
  "kernelspec": {
   "display_name": "Python 3",
   "language": "python",
   "name": "python3"
  },
  "language_info": {
   "codemirror_mode": {
    "name": "ipython",
    "version": 3
   },
   "file_extension": ".py",
   "mimetype": "text/x-python",
   "name": "python",
   "nbconvert_exporter": "python",
   "pygments_lexer": "ipython3",
   "version": "3.11.4"
  },
  "orig_nbformat": 4
 },
 "nbformat": 4,
 "nbformat_minor": 2
}
