{
 "cells": [
  {
   "cell_type": "code",
   "execution_count": 6,
   "metadata": {},
   "outputs": [
    {
     "ename": "IndentationError",
     "evalue": "expected an indented block after function definition on line 57 (bd.py, line 58)",
     "output_type": "error",
     "traceback": [
      "Traceback \u001b[1;36m(most recent call last)\u001b[0m:\n",
      "\u001b[0m  File \u001b[0;32m~\\AppData\\Roaming\\Python\\Python311\\site-packages\\IPython\\core\\interactiveshell.py:3508\u001b[0m in \u001b[0;35mrun_code\u001b[0m\n    exec(code_obj, self.user_global_ns, self.user_ns)\u001b[0m\n",
      "\u001b[0m  Cell \u001b[0;32mIn[6], line 14\u001b[0m\n    from get_data import *\u001b[0m\n",
      "\u001b[1;36m  File \u001b[1;32mc:\\Users\\ivan\\Desktop\\Coding\\corunaRealEstateMarket\\get_data.py:2\u001b[1;36m\n\u001b[1;33m    from bd import *\u001b[1;36m\n",
      "\u001b[1;36m  File \u001b[1;32mc:\\Users\\ivan\\Desktop\\Coding\\corunaRealEstateMarket\\bd.py:58\u001b[1;36m\u001b[0m\n\u001b[1;33m    \u001b[0m\n\u001b[1;37m    ^\u001b[0m\n\u001b[1;31mIndentationError\u001b[0m\u001b[1;31m:\u001b[0m expected an indented block after function definition on line 57\n"
     ]
    }
   ],
   "source": [
    "import pandas as pd\n",
    "import numpy as np\n",
    "import matplotlib.pyplot as plt\n",
    "import seaborn as sns\n",
    "import pickle\n",
    "import os\n",
    "import sys\n",
    "from sklearn.model_selection import train_test_split\n",
    "from sklearn.linear_model import LinearRegression\n",
    "from sklearn.metrics import mean_squared_error, r2_score, mean_absolute_error\n",
    "from sklearn.preprocessing import StandardScaler\n",
    "from sklearn.preprocessing import PolynomialFeatures\n",
    "\n",
    "from get_data import *"
   ]
  },
  {
   "cell_type": "markdown",
   "metadata": {},
   "source": [
    "### Data load"
   ]
  },
  {
   "cell_type": "code",
   "execution_count": 3,
   "metadata": {},
   "outputs": [
    {
     "name": "stdout",
     "output_type": "stream",
     "text": [
      "<class 'pandas.core.frame.DataFrame'>\n",
      "Int64Index: 656 entries, 0 to 655\n",
      "Data columns (total 16 columns):\n",
      " #   Column            Non-Null Count  Dtype  \n",
      "---  ------            --------------  -----  \n",
      " 0   id                656 non-null    int64  \n",
      " 1   titulo            656 non-null    object \n",
      " 2   descripcion       644 non-null    object \n",
      " 3   extra_info        652 non-null    object \n",
      " 4   n_habitaciones    656 non-null    int64  \n",
      " 5   tamano            656 non-null    int64  \n",
      " 6   precio            656 non-null    int64  \n",
      " 7   precio_modalidad  656 non-null    object \n",
      " 8   municipio         656 non-null    object \n",
      " 9   ascensor          656 non-null    bool   \n",
      " 10  tipo_vivienda     656 non-null    object \n",
      " 11  es_casa           656 non-null    bool   \n",
      " 12  para_estudiantes  656 non-null    bool   \n",
      " 13  parking           656 non-null    bool   \n",
      " 14  valoracion        637 non-null    float64\n",
      " 15  n_banos           637 non-null    float64\n",
      "dtypes: bool(4), float64(2), int64(4), object(6)\n",
      "memory usage: 69.2+ KB\n"
     ]
    }
   ],
   "source": [
    "src_folder = os.path.join('data', 'idealista')\n",
    "src_folder = 'bd_sql'\n",
    "\n",
    "# df is created\n",
    "ds = pd.DataFrame()\n",
    "\n",
    "for file in os.listdir(src_folder):\n",
    "    file = os.path.join(src_folder, file)\n",
    "    ds = pd.concat([ds, pd.read_csv(file)], ignore_index=True)\n",
    "    ds = ds.drop_duplicates(subset=['id'])\n",
    "\n",
    "ds.info()"
   ]
  },
  {
   "cell_type": "code",
   "execution_count": 8,
   "metadata": {},
   "outputs": [],
   "source": [
    "cols = ds.columns\n",
    "cols_exclude = ['id']\n",
    "\n",
    "#convert int columns to float\n",
    "for col in cols:\n",
    "    if ds[col].dtype == 'int64':\n",
    "        ds[col] = ds[col].astype('float64')\n",
    "    elif ds[col].dtype == 'object':\n",
    "        cols_exclude.append(col)\n",
    "\n",
    "cols_model = [col for col in cols if col not in cols_exclude]"
   ]
  },
  {
   "cell_type": "markdown",
   "metadata": {},
   "source": [
    "### Deal with NAs"
   ]
  },
  {
   "cell_type": "code",
   "execution_count": 9,
   "metadata": {},
   "outputs": [],
   "source": [
    "ds[\"valoracion\"] = ds[\"valoracion\"].replace(\"-1\", np.nan)\n",
    "ds[\"n_banos\"] = ds[\"n_banos\"].replace(\"-1\", np.nan)"
   ]
  },
  {
   "cell_type": "code",
   "execution_count": 13,
   "metadata": {},
   "outputs": [],
   "source": [
    "ds['valoracion'] = ds['valoracion'].fillna(ds['valoracion'].mean())\n",
    "ds['n_banos'] = ds['n_banos'].fillna(ds['n_banos'].mean())"
   ]
  },
  {
   "cell_type": "code",
   "execution_count": 14,
   "metadata": {},
   "outputs": [
    {
     "name": "stdout",
     "output_type": "stream",
     "text": [
      "<class 'pandas.core.frame.DataFrame'>\n",
      "Int64Index: 656 entries, 0 to 655\n",
      "Data columns (total 8 columns):\n",
      " #   Column            Non-Null Count  Dtype  \n",
      "---  ------            --------------  -----  \n",
      " 0   n_habitaciones    656 non-null    float64\n",
      " 1   tamano            656 non-null    float64\n",
      " 2   ascensor          656 non-null    bool   \n",
      " 3   es_casa           656 non-null    bool   \n",
      " 4   para_estudiantes  656 non-null    bool   \n",
      " 5   parking           656 non-null    bool   \n",
      " 6   valoracion        656 non-null    float64\n",
      " 7   n_banos           656 non-null    float64\n",
      "dtypes: bool(4), float64(4)\n",
      "memory usage: 28.2 KB\n"
     ]
    }
   ],
   "source": [
    "ds[cols_model].drop(['precio'], axis=1).info()"
   ]
  },
  {
   "cell_type": "markdown",
   "metadata": {},
   "source": [
    "### Data split"
   ]
  },
  {
   "cell_type": "code",
   "execution_count": 20,
   "metadata": {},
   "outputs": [],
   "source": [
    "x = ds[cols_model].drop(['precio'], axis=1)\n",
    "y_original = ds['precio']\n",
    "y = y_original/ds['tamano']\n",
    "\n",
    "# slit data into train and test\n",
    "x_train, x_test, y_train, y_test = train_test_split(x, y, test_size=0.2)"
   ]
  },
  {
   "cell_type": "markdown",
   "metadata": {},
   "source": [
    "### Model"
   ]
  },
  {
   "cell_type": "code",
   "execution_count": 21,
   "metadata": {},
   "outputs": [
    {
     "name": "stdout",
     "output_type": "stream",
     "text": [
      "R2 Scored:  -0.15940921067071745\n"
     ]
    }
   ],
   "source": [
    "model = LinearRegression()\n",
    "model.fit(x_train, y_train)\n",
    "r2_scored = model.score(x_test, y_test)\n",
    "print(\"R2 Scored: \", r2_scored)"
   ]
  },
  {
   "cell_type": "code",
   "execution_count": 22,
   "metadata": {},
   "outputs": [
    {
     "data": {
      "text/plain": [
       "es_casa             0.067188\n",
       "ascensor            0.057443\n",
       "parking             0.021823\n",
       "valoracion         -0.047876\n",
       "n_banos            -0.077735\n",
       "para_estudiantes   -0.122910\n",
       "tamano             -0.232770\n",
       "n_habitaciones     -0.291157\n",
       "dtype: float64"
      ]
     },
     "execution_count": 22,
     "metadata": {},
     "output_type": "execute_result"
    }
   ],
   "source": [
    "x.corrwith(y).sort_values(ascending=False)"
   ]
  },
  {
   "cell_type": "markdown",
   "metadata": {},
   "source": [
    "### Evaluate model"
   ]
  },
  {
   "cell_type": "markdown",
   "metadata": {},
   "source": [
    "y is price/m2"
   ]
  },
  {
   "cell_type": "code",
   "execution_count": 24,
   "metadata": {},
   "outputs": [
    {
     "name": "stdout",
     "output_type": "stream",
     "text": [
      "Training RMSE score: 4.927834694120737.\n",
      "Testing RMSE score: 2.777246416794873\n",
      "\n",
      "Training MAE score: 2.7895739004083233\n",
      "Testing MAE score: 2.2924990250898745\n"
     ]
    }
   ],
   "source": [
    "y_train_pred = model.predict(x_train)\n",
    "y_test_pred = model.predict(x_test)\n",
    "\n",
    "rmse_train = np.sqrt(mean_squared_error(y_train, y_train_pred))\n",
    "rmse_test = np.sqrt(mean_squared_error(y_test, y_test_pred))\n",
    "print('Training RMSE score: {}.'.format(rmse_train))\n",
    "print('Testing RMSE score: {}\\n'.format(rmse_test))\n",
    "\n",
    "mae_train = mean_absolute_error(y_train, y_train_pred)\n",
    "mae_test = mean_absolute_error(y_test, y_test_pred)  \n",
    "print('Training MAE score: {}'.format(mae_train))\n",
    "print('Testing MAE score: {}'.format(mae_test))"
   ]
  },
  {
   "cell_type": "markdown",
   "metadata": {},
   "source": [
    "y is price"
   ]
  },
  {
   "cell_type": "code",
   "execution_count": 26,
   "metadata": {},
   "outputs": [
    {
     "name": "stdout",
     "output_type": "stream",
     "text": [
      "Training RMSE score: 491.99348453737457.\n",
      "Testing RMSE score: 406.33038115290316\n",
      "\n",
      "Training MAE score: 297.99291420872385\n",
      "Testing MAE score: 246.00931123530796\n"
     ]
    }
   ],
   "source": [
    "y_train_pred = model.predict(x_train)*x_train['tamano']\n",
    "y_test_pred = model.predict(x_test)*x_test['tamano']\n",
    "\n",
    "rmse_train = np.sqrt(mean_squared_error(y_original[y_train.index], y_train_pred))\n",
    "rmse_test = np.sqrt(mean_squared_error(y_original[y_test.index], y_test_pred))\n",
    "#print rmse and mae\n",
    "print('Training RMSE score: {}.'.format(rmse_train))\n",
    "print('Testing RMSE score: {}\\n'.format(rmse_test))\n",
    "\n",
    "mae_train = mean_absolute_error(y_original[y_train.index], y_train_pred)\n",
    "mae_test = mean_absolute_error(y_original[y_test.index], y_test_pred)  \n",
    "print('Training MAE score: {}'.format(mae_train))\n",
    "print('Testing MAE score: {}'.format(mae_test))"
   ]
  }
 ],
 "metadata": {
  "kernelspec": {
   "display_name": "Python 3",
   "language": "python",
   "name": "python3"
  },
  "language_info": {
   "codemirror_mode": {
    "name": "ipython",
    "version": 3
   },
   "file_extension": ".py",
   "mimetype": "text/x-python",
   "name": "python",
   "nbconvert_exporter": "python",
   "pygments_lexer": "ipython3",
   "version": "3.11.4"
  },
  "orig_nbformat": 4
 },
 "nbformat": 4,
 "nbformat_minor": 2
}
