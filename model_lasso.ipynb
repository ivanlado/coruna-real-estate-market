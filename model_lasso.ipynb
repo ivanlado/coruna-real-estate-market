{
 "cells": [
  {
   "cell_type": "code",
   "execution_count": 9,
   "metadata": {},
   "outputs": [],
   "source": [
    "import pandas as pd\n",
    "import numpy as np\n",
    "import matplotlib.pyplot as plt\n",
    "import seaborn as sns\n",
    "import pickle\n",
    "import os\n",
    "import sys\n",
    "from sklearn.model_selection import train_test_split\n",
    "from sklearn.linear_model import LinearRegression\n",
    "from sklearn import linear_model\n",
    "from sklearn.metrics import mean_squared_error, r2_score, mean_absolute_error\n",
    "from sklearn.preprocessing import StandardScaler\n",
    "from sklearn.preprocessing import PolynomialFeatures\n",
    "from sklearn.model_selection import cross_val_score, RepeatedKFold\n",
    "from sklearn.feature_selection import SequentialFeatureSelector\n",
    "\n",
    "from get_data import *"
   ]
  },
  {
   "cell_type": "markdown",
   "metadata": {},
   "source": [
    "### Data load"
   ]
  },
  {
   "cell_type": "code",
   "execution_count": 10,
   "metadata": {},
   "outputs": [
    {
     "name": "stdout",
     "output_type": "stream",
     "text": [
      "Database object created\n",
      "<class 'pandas.core.frame.DataFrame'>\n",
      "Int64Index: 637 entries, 0 to 636\n",
      "Data columns (total 27 columns):\n",
      " #   Column              Non-Null Count  Dtype  \n",
      "---  ------              --------------  -----  \n",
      " 0   id                  637 non-null    int64  \n",
      " 1   titulo              637 non-null    object \n",
      " 2   descripcion         625 non-null    object \n",
      " 3   extra_info          633 non-null    object \n",
      " 4   n_habitaciones      637 non-null    int64  \n",
      " 5   tamano              637 non-null    int64  \n",
      " 6   precio              637 non-null    float64\n",
      " 7   municipio           637 non-null    object \n",
      " 8   n_banos             637 non-null    int64  \n",
      " 9   n_plazas_garaje     637 non-null    int64  \n",
      " 10  direccion           637 non-null    object \n",
      " 11  landmarks_cercanos  637 non-null    object \n",
      " 12  piscina             637 non-null    bool   \n",
      " 13  valoracion          637 non-null    int64  \n",
      " 14  densidad            637 non-null    int64  \n",
      " 15  pib_capita          637 non-null    float64\n",
      " 16  parking             637 non-null    bool   \n",
      " 17  estudiantes         637 non-null    bool   \n",
      " 18  playa               637 non-null    bool   \n",
      " 19  balcon              637 non-null    bool   \n",
      " 20  trastero            637 non-null    bool   \n",
      " 21  vacacional          637 non-null    bool   \n",
      " 22  vistas              637 non-null    bool   \n",
      " 23  sin_ascensor        637 non-null    bool   \n",
      " 24  profesores          637 non-null    bool   \n",
      " 25  amueblado           637 non-null    bool   \n",
      " 26  es_casa             637 non-null    float64\n",
      "dtypes: bool(11), float64(3), int64(7), object(6)\n",
      "memory usage: 91.4+ KB\n"
     ]
    },
    {
     "name": "stderr",
     "output_type": "stream",
     "text": [
      "c:\\Users\\ivan\\Desktop\\Coding\\corunaRealEstateMarket\\bd.py:46: UserWarning: pandas only supports SQLAlchemy connectable (engine/connection) or database string URI or sqlite3 DBAPI2 connection. Other DBAPI2 objects are not tested. Please consider using SQLAlchemy.\n",
      "  df = pd.read_sql_query(query, self.connection)\n"
     ]
    }
   ],
   "source": [
    "ds = get_data_model_v1()\n",
    "ds.info()"
   ]
  },
  {
   "cell_type": "code",
   "execution_count": 11,
   "metadata": {},
   "outputs": [
    {
     "name": "stdout",
     "output_type": "stream",
     "text": [
      "<class 'pandas.core.frame.DataFrame'>\n",
      "Int64Index: 637 entries, 0 to 636\n",
      "Data columns (total 6 columns):\n",
      " #   Column              Non-Null Count  Dtype \n",
      "---  ------              --------------  ----- \n",
      " 0   titulo              637 non-null    object\n",
      " 1   descripcion         625 non-null    object\n",
      " 2   extra_info          633 non-null    object\n",
      " 3   municipio           637 non-null    object\n",
      " 4   direccion           637 non-null    object\n",
      " 5   landmarks_cercanos  637 non-null    object\n",
      "dtypes: object(6)\n",
      "memory usage: 34.8+ KB\n"
     ]
    }
   ],
   "source": [
    "object_columns = ds.select_dtypes(include=['object']).columns.tolist()\n",
    "ds_object = ds[object_columns]\n",
    "ds_object.info()"
   ]
  },
  {
   "cell_type": "code",
   "execution_count": 12,
   "metadata": {},
   "outputs": [
    {
     "name": "stdout",
     "output_type": "stream",
     "text": [
      "Column n_banos has more than 20% of missing values.\n",
      "Column n_plazas_garaje has more than 20% of missing values.\n"
     ]
    }
   ],
   "source": [
    "cols = ds.columns\n",
    "cols_exclude = ['id', 'titulo', 'descripcion', 'extra_info', 'direccion', 'landmarks_cercanos', 'municipio']\n",
    "cols_check_nas = ['n_banos', 'n_plazas_garaje', 'valoracion']\n",
    "for col in cols_check_nas:\n",
    "    if sum(ds[col]==-1)/len(ds) > 0.25:\n",
    "        print(f'Column {col} has more than 20% of missing values.')\n",
    "        cols_exclude.append(col)\n",
    "\n",
    "cols_model = [col for col in cols if col not in cols_exclude]\n",
    "\n",
    "#convert int and bool columns to float\n",
    "for col in cols:\n",
    "    if ds[col].dtype == 'int64':\n",
    "        ds[col] = ds[col].astype('float64')\n",
    "    elif ds[col].dtype == 'object':\n",
    "        cols_exclude.append(col)\n",
    "    elif ds[col].dtype == 'bool':\n",
    "        ds[col] = ds[col].astype('float64')"
   ]
  },
  {
   "cell_type": "markdown",
   "metadata": {},
   "source": [
    "### Data visualization"
   ]
  },
  {
   "cell_type": "markdown",
   "metadata": {},
   "source": [
    "### Deal with NAs"
   ]
  },
  {
   "cell_type": "code",
   "execution_count": 13,
   "metadata": {},
   "outputs": [],
   "source": [
    "for col in cols_check_nas:\n",
    "    ds[col] = ds[col].fillna(np.mean(ds[col]))"
   ]
  },
  {
   "cell_type": "markdown",
   "metadata": {},
   "source": [
    "### Municipios column"
   ]
  },
  {
   "cell_type": "code",
   "execution_count": 14,
   "metadata": {},
   "outputs": [],
   "source": [
    "ds['coruna'] = ds[\"municipio\"].apply(lambda x: 1.0 if 'coru' in x else 0.0)\n",
    "ds['oleiros'] = ds[\"municipio\"].apply(lambda x: 1.0 if 'oleiros' in x else 0.0)\n",
    "ds['art_berg_camb'] = ds[\"municipio\"].apply(lambda x: 1.0 if ('artei' in x or 'berg' in x or 'cambr' in x) else 0.0)\n",
    "\n",
    "cols_model.append('coruna')\n",
    "cols_model.append('oleiros')\n",
    "cols_model.append('art_berg_camb')"
   ]
  },
  {
   "cell_type": "markdown",
   "metadata": {},
   "source": [
    "### Data split"
   ]
  },
  {
   "cell_type": "code",
   "execution_count": 22,
   "metadata": {},
   "outputs": [],
   "source": [
    "x = ds[cols_model].drop('precio', axis=1)\n",
    "y = ds['precio']\n",
    "\n",
    "# slit data into train and test\n",
    "x_train, x_test, y_train, y_test = train_test_split(x, y, test_size=0.2)"
   ]
  },
  {
   "cell_type": "markdown",
   "metadata": {},
   "source": [
    "### Model"
   ]
  },
  {
   "cell_type": "code",
   "execution_count": 23,
   "metadata": {},
   "outputs": [
    {
     "name": "stdout",
     "output_type": "stream",
     "text": [
      "RMSE--->\t mean:411.50122909748103\t std:78.05898030484792\n"
     ]
    }
   ],
   "source": [
    "model = linear_model.Lasso(alpha=5)\n",
    "\n",
    "rkf = RepeatedKFold(n_splits=5, n_repeats=10)\n",
    "scores = cross_val_score(model, x_train, y_train, scoring='neg_mean_squared_error', cv=rkf)\n",
    "scores = np.sqrt(np.abs(scores))\n",
    "\n",
    "scores_mean = np.mean(scores)\n",
    "scores_std = np.std(scores)\n",
    "\n",
    "print(f'RMSE--->\\t mean:{scores_mean}\\t std:{scores_std}')"
   ]
  },
  {
   "cell_type": "code",
   "execution_count": 44,
   "metadata": {},
   "outputs": [
    {
     "data": {
      "text/plain": [
       "['tamano', 'densidad', 'playa', 'vistas', 'es_casa', 'oleiros']"
      ]
     },
     "execution_count": 44,
     "metadata": {},
     "output_type": "execute_result"
    }
   ],
   "source": [
    "cols_selected.to_list()"
   ]
  },
  {
   "cell_type": "code",
   "execution_count": 57,
   "metadata": {},
   "outputs": [
    {
     "name": "stderr",
     "output_type": "stream",
     "text": [
      "c:\\Users\\ivan\\AppData\\Local\\Programs\\Python\\Python311\\Lib\\site-packages\\sklearn\\linear_model\\_coordinate_descent.py:628: ConvergenceWarning: Objective did not converge. You might want to increase the number of iterations, check the scale of the features or consider increasing regularisation. Duality gap: 2.856e+07, tolerance: 1.247e+04\n",
      "  model = cd_fast.enet_coordinate_descent(\n"
     ]
    },
    {
     "name": "stdout",
     "output_type": "stream",
     "text": [
      "lambda val:  0.1 \t RMSE:  419.96103898058834 \t 12 ['tamano', 'piscina', 'densidad', 'pib_capita', 'parking', 'playa', 'balcon', 'vacacional', 'vistas', 'profesores', 'es_casa', 'oleiros']\n",
      "lambda val:  0.5 \t RMSE:  417.03366166206354 \t 11 ['tamano', 'piscina', 'densidad', 'parking', 'playa', 'balcon', 'vacacional', 'vistas', 'profesores', 'es_casa', 'oleiros']\n",
      "lambda val:  1 \t RMSE:  413.5578102522577 \t 10 ['tamano', 'piscina', 'densidad', 'parking', 'playa', 'balcon', 'vacacional', 'vistas', 'es_casa', 'oleiros']\n",
      "lambda val:  2 \t RMSE:  417.5982410008651 \t 10 ['tamano', 'piscina', 'densidad', 'parking', 'playa', 'balcon', 'vacacional', 'vistas', 'es_casa', 'oleiros']\n",
      "lambda val:  4 \t RMSE:  413.7685678186555 \t 8 ['tamano', 'piscina', 'densidad', 'playa', 'balcon', 'vistas', 'es_casa', 'oleiros']\n",
      "lambda val:  5 \t RMSE:  416.1748015094862 \t 6 ['tamano', 'densidad', 'playa', 'vistas', 'es_casa', 'oleiros']\n",
      "lambda val:  7 \t RMSE:  417.4087129672812 \t 6 ['tamano', 'densidad', 'playa', 'vistas', 'es_casa', 'oleiros']\n",
      "lambda val:  9 \t RMSE:  417.97177636382054 \t 6 ['tamano', 'densidad', 'playa', 'vistas', 'es_casa', 'oleiros']\n",
      "lambda val:  10 \t RMSE:  418.04060193918144 \t 6 ['tamano', 'densidad', 'playa', 'vistas', 'es_casa', 'oleiros']\n",
      "lambda val:  15 \t RMSE:  424.6594907729618 \t 5 ['tamano', 'densidad', 'playa', 'vistas', 'oleiros']\n",
      "lambda val:  20 \t RMSE:  428.2533930221161 \t 2 ['tamano', 'playa']\n",
      "lambda val:  30 \t RMSE:  427.9826809795193 \t 1 ['tamano']\n",
      "lambda val:  40 \t RMSE:  431.13722565864117 \t 1 ['tamano']\n",
      "lambda val:  50 \t RMSE:  429.5877116316488 \t 1 ['tamano']\n",
      "lambda val:  100 \t RMSE:  429.707530470361 \t 1 ['tamano']\n"
     ]
    }
   ],
   "source": [
    "lambda_vals = [0.1, 0.5, 1, 2, 4, 5, 7, 9 ,10, 15, 20, 30, 40, 50, 100]\n",
    "scores_record= []\n",
    "models = []\n",
    "\n",
    "for val in lambda_vals:\n",
    "    model = linear_model.Lasso(alpha=val, max_iter=10000)\n",
    "\n",
    "    rkf = RepeatedKFold(n_splits=5, n_repeats=10)\n",
    "    scores = cross_val_score(model, x_train, y_train, scoring='neg_mean_squared_error', cv=rkf)\n",
    "    scores = np.sqrt(np.abs(scores))\n",
    "\n",
    "    scores_mean = np.mean(scores)\n",
    "    scores_record.append(scores_mean)\n",
    "\n",
    "    model.fit(x_train, y_train)\n",
    "    models.append(model)\n",
    "    cols_selected = x_train.columns[model.coef_ > 0.0001]\n",
    "    print(\"lambda val: \", val, '\\t', \"RMSE: \", scores_mean, '\\t', len(cols_selected), cols_selected.to_list())"
   ]
  },
  {
   "cell_type": "code",
   "execution_count": 133,
   "metadata": {},
   "outputs": [],
   "source": [
    "def get_step_score(current_cols, new_col, x_train, y_train):\n",
    "    model = LinearRegression()\n",
    "    rkf = RepeatedKFold(n_splits=5, n_repeats=10)\n",
    "    cols = current_cols + [new_col]\n",
    "    scores = cross_val_score(model, x_train[cols], y_train, scoring='neg_mean_squared_error', cv=rkf)\n",
    "    scores = np.sqrt(np.abs(scores))\n",
    "    scores_mean = np.mean(scores)\n",
    "    return scores_mean, model"
   ]
  },
  {
   "cell_type": "code",
   "execution_count": 138,
   "metadata": {},
   "outputs": [
    {
     "name": "stdout",
     "output_type": "stream",
     "text": [
      "Best column: tamano\t score: 436.66021290349397\n",
      "Best column: es_casa\t score: 429.0434762856611\n",
      "Best column: art_berg_camb\t score: 423.5560468448748\n",
      "Best column: estudiantes\t score: 416.3899806460782\n",
      "Best column: playa\t score: 413.16563718353393\n",
      "Best column: sin_ascensor\t score: 409.4622944628043\n",
      "Best column: vistas\t score: 407.87192096681554\n",
      "Best column: trastero\t score: 407.81949938727684\n",
      "Best column: pib_capita\t score: 406.1802710494341\n",
      "Best column: vacacional\t score: 409.1944766158256\n",
      "Best column: valoracion\t score: 407.9332809964294\n",
      "Best column: coruna\t score: 407.48485230165915\n",
      "Best column: oleiros\t score: 408.08400333663826\n",
      "Best column: parking\t score: 408.5682266233929\n",
      "Best column: balcon\t score: 406.47989847273874\n",
      "Best column: piscina\t score: 409.7519125616878\n",
      "Best column: amueblado\t score: 410.63413882835476\n",
      "Best column: profesores\t score: 410.7149208282941\n",
      "Best column: densidad\t score: 412.5010212053801\n"
     ]
    }
   ],
   "source": [
    "current_cols = []\n",
    "models = []\n",
    "scores = []\n",
    "cols = []\n",
    "all_columns = cols_model[:]\n",
    "all_columns.remove('precio')\n",
    "\n",
    "for k in range(len(all_columns)-1):\n",
    "    best_col = None\n",
    "    best_score = 1e20\n",
    "    best_model = None\n",
    "    for col in set(all_columns)-set(current_cols):\n",
    "        score, model = get_step_score(current_cols, col, x_train, y_train)\n",
    "        if score < best_score:\n",
    "            best_score = score\n",
    "            best_col = col\n",
    "            best_model = model\n",
    "    current_cols.append(best_col)\n",
    "    models.append(best_model)\n",
    "    scores.append(best_score)\n",
    "    cols.append(current_cols[:])\n",
    "    print(f'Best column: {best_col}\\t score: {best_score}')"
   ]
  },
  {
   "cell_type": "code",
   "execution_count": 15,
   "metadata": {},
   "outputs": [
    {
     "name": "stdout",
     "output_type": "stream",
     "text": [
      "R2 Scored:  0.3828136716884596\n"
     ]
    }
   ],
   "source": [
    "model = LinearRegression()\n",
    "model.fit(x_train, y_train)\n",
    "r2_scored = model.score(x_test, y_test)\n",
    "print(\"R2 Scored: \", r2_scored)"
   ]
  },
  {
   "cell_type": "code",
   "execution_count": 11,
   "metadata": {},
   "outputs": [
    {
     "data": {
      "text/plain": [
       "tamano            0.656707\n",
       "es_casa           0.508830\n",
       "n_habitaciones    0.430743\n",
       "oleiros           0.259161\n",
       "sin_ascensor      0.233355\n",
       "amueblado         0.228033\n",
       "vistas            0.201227\n",
       "piscina           0.188358\n",
       "estudiantes       0.147420\n",
       "playa             0.136011\n",
       "pib_capita        0.132718\n",
       "coruna            0.117547\n",
       "densidad          0.105291\n",
       "art_berg_camb     0.063401\n",
       "profesores        0.042951\n",
       "trastero          0.031509\n",
       "parking           0.026320\n",
       "balcon            0.023787\n",
       "valoracion        0.018504\n",
       "vacacional        0.016390\n",
       "dtype: float64"
      ]
     },
     "execution_count": 11,
     "metadata": {},
     "output_type": "execute_result"
    }
   ],
   "source": [
    "abs(x.corrwith(y)).sort_values(ascending=False)"
   ]
  },
  {
   "cell_type": "markdown",
   "metadata": {},
   "source": [
    "### Evaluate model"
   ]
  },
  {
   "cell_type": "code",
   "execution_count": 16,
   "metadata": {},
   "outputs": [
    {
     "name": "stdout",
     "output_type": "stream",
     "text": [
      "Training RMSE score: 375.5887441083849.\n",
      "Testing RMSE score: 399.44957624450495\n",
      "\n",
      "Training MAE score: 219.40739463830664\n",
      "Testing MAE score: 265.8617295896231\n"
     ]
    }
   ],
   "source": [
    "y_train_pred = model.predict(x_train)\n",
    "y_test_pred = model.predict(x_test)\n",
    "\n",
    "rmse_train = np.sqrt(mean_squared_error(y_train, y_train_pred))\n",
    "rmse_test = np.sqrt(mean_squared_error(y_test, y_test_pred))\n",
    "print('Training RMSE score: {}.'.format(rmse_train))\n",
    "print('Testing RMSE score: {}\\n'.format(rmse_test))\n",
    "\n",
    "mae_train = mean_absolute_error(y_train, y_train_pred)\n",
    "mae_test = mean_absolute_error(y_test, y_test_pred)  \n",
    "print('Training MAE score: {}'.format(mae_train))\n",
    "print('Testing MAE score: {}'.format(mae_test))"
   ]
  },
  {
   "cell_type": "markdown",
   "metadata": {},
   "source": [
    "### Feature selection"
   ]
  },
  {
   "cell_type": "code",
   "execution_count": 20,
   "metadata": {},
   "outputs": [
    {
     "data": {
      "text/plain": [
       "['tamano', 'playa', 'sin_ascensor', 'es_casa', 'art_berg_camb']"
      ]
     },
     "execution_count": 20,
     "metadata": {},
     "output_type": "execute_result"
    }
   ],
   "source": [
    "model = LinearRegression()\n",
    "sfs = SequentialFeatureSelector(model, n_features_to_select=5)\n",
    "sfs.fit(x, y)\n",
    "\n",
    "idx = np.where(sfs.get_support())[0].tolist()\n",
    "[col for col in x.columns[idx]]"
   ]
  },
  {
   "cell_type": "code",
   "execution_count": 19,
   "metadata": {},
   "outputs": [
    {
     "data": {
      "text/plain": [
       "['tamano', 'es_casa', 'art_berg_camb']"
      ]
     },
     "execution_count": 19,
     "metadata": {},
     "output_type": "execute_result"
    }
   ],
   "source": [
    "idx = np.where(sfs.get_support())[0].tolist()\n",
    "[col for col in x.columns[idx]]"
   ]
  }
 ],
 "metadata": {
  "kernelspec": {
   "display_name": "Python 3",
   "language": "python",
   "name": "python3"
  },
  "language_info": {
   "codemirror_mode": {
    "name": "ipython",
    "version": 3
   },
   "file_extension": ".py",
   "mimetype": "text/x-python",
   "name": "python",
   "nbconvert_exporter": "python",
   "pygments_lexer": "ipython3",
   "version": "3.11.4"
  },
  "orig_nbformat": 4
 },
 "nbformat": 4,
 "nbformat_minor": 2
}
